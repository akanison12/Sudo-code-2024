{
  "nbformat": 4,
  "nbformat_minor": 0,
  "metadata": {
    "colab": {
      "provenance": [],
      "gpuType": "T4",
      "include_colab_link": true
    },
    "kernelspec": {
      "name": "python3",
      "display_name": "Python 3"
    },
    "language_info": {
      "name": "python"
    },
    "accelerator": "GPU"
  },
  "cells": [
    {
      "cell_type": "markdown",
      "metadata": {
        "id": "view-in-github",
        "colab_type": "text"
      },
      "source": [
        "<a href=\"https://colab.research.google.com/github/akanison12/Sudo-code-2024/blob/main/240114_NLPInVietNamese.ipynb\" target=\"_parent\"><img src=\"https://colab.research.google.com/assets/colab-badge.svg\" alt=\"Open In Colab\"/></a>"
      ]
    },
    {
      "cell_type": "markdown",
      "source": [
        "#Install Library"
      ],
      "metadata": {
        "id": "qzq3N_WVXZ6r"
      }
    },
    {
      "cell_type": "code",
      "execution_count": null,
      "metadata": {
        "colab": {
          "base_uri": "https://localhost:8080/"
        },
        "id": "DwlRnQX82Vfm",
        "outputId": "4a3e0ef1-d91c-45f3-bbc5-a8f4694315fe"
      },
      "outputs": [
        {
          "output_type": "stream",
          "name": "stdout",
          "text": [
            "Requirement already satisfied: kaggle in /usr/local/lib/python3.10/dist-packages (1.6.17)\n",
            "Requirement already satisfied: six>=1.10 in /usr/local/lib/python3.10/dist-packages (from kaggle) (1.16.0)\n",
            "Requirement already satisfied: certifi>=2023.7.22 in /usr/local/lib/python3.10/dist-packages (from kaggle) (2024.8.30)\n",
            "Requirement already satisfied: python-dateutil in /usr/local/lib/python3.10/dist-packages (from kaggle) (2.8.2)\n",
            "Requirement already satisfied: requests in /usr/local/lib/python3.10/dist-packages (from kaggle) (2.32.3)\n",
            "Requirement already satisfied: tqdm in /usr/local/lib/python3.10/dist-packages (from kaggle) (4.66.6)\n",
            "Requirement already satisfied: python-slugify in /usr/local/lib/python3.10/dist-packages (from kaggle) (8.0.4)\n",
            "Requirement already satisfied: urllib3 in /usr/local/lib/python3.10/dist-packages (from kaggle) (2.2.3)\n",
            "Requirement already satisfied: bleach in /usr/local/lib/python3.10/dist-packages (from kaggle) (6.2.0)\n",
            "Requirement already satisfied: webencodings in /usr/local/lib/python3.10/dist-packages (from bleach->kaggle) (0.5.1)\n",
            "Requirement already satisfied: text-unidecode>=1.3 in /usr/local/lib/python3.10/dist-packages (from python-slugify->kaggle) (1.3)\n",
            "Requirement already satisfied: charset-normalizer<4,>=2 in /usr/local/lib/python3.10/dist-packages (from requests->kaggle) (3.4.0)\n",
            "Requirement already satisfied: idna<4,>=2.5 in /usr/local/lib/python3.10/dist-packages (from requests->kaggle) (3.10)\n",
            "Collecting vietnam-number\n",
            "  Downloading vietnam_number-1.0.3-py3-none-any.whl.metadata (11 kB)\n",
            "Downloading vietnam_number-1.0.3-py3-none-any.whl (21 kB)\n",
            "Installing collected packages: vietnam-number\n",
            "Successfully installed vietnam-number-1.0.3\n",
            "Dataset URL: https://www.kaggle.com/datasets/tuannguyenvananh/vietnamese-text-classification-dataset\n",
            "License(s): unknown\n",
            "Downloading vietnamese-text-classification-dataset.zip to /content\n",
            "  0% 0.00/173k [00:00<?, ?B/s]\n",
            "100% 173k/173k [00:00<00:00, 33.0MB/s]\n",
            "Archive:  vietnamese-text-classification-dataset.zip\n",
            "  inflating: train.csv               \n"
          ]
        }
      ],
      "source": [
        "!pip install kaggle\n",
        "\n",
        "! pip install vietnam-number\n",
        "!kaggle datasets download -d tuannguyenvananh/vietnamese-text-classification-dataset\n",
        "!unzip vietnamese-text-classification-dataset.zip\n"
      ]
    },
    {
      "cell_type": "code",
      "source": [
        "!apt-get update > /dev/null\n",
        "!apt-get install -y openjdk-11-jdk > /dev/null"
      ],
      "metadata": {
        "colab": {
          "base_uri": "https://localhost:8080/"
        },
        "id": "wuaLvBIQ6FY9",
        "outputId": "cda490a1-d85f-42d4-e464-7a43f55cbdbc"
      },
      "execution_count": null,
      "outputs": [
        {
          "output_type": "stream",
          "name": "stdout",
          "text": [
            "W: Skipping acquire of configured file 'main/source/Sources' as repository 'https://r2u.stat.illinois.edu/ubuntu jammy InRelease' does not seem to provide it (sources.list entry misspelt?)\n"
          ]
        }
      ]
    },
    {
      "cell_type": "code",
      "source": [
        "!pip install -q py_vncorenlp"
      ],
      "metadata": {
        "id": "euGm9tZa6Osl",
        "colab": {
          "base_uri": "https://localhost:8080/"
        },
        "outputId": "89d3b39c-a5e7-4add-f19d-543d071baf1c"
      },
      "execution_count": null,
      "outputs": [
        {
          "output_type": "stream",
          "name": "stdout",
          "text": [
            "  Preparing metadata (setup.py) ... \u001b[?25l\u001b[?25hdone\n",
            "\u001b[2K   \u001b[90m━━━━━━━━━━━━━━━━━━━━━━━━━━━━━━━━━━━━━━━━\u001b[0m \u001b[32m1.5/1.5 MB\u001b[0m \u001b[31m28.1 MB/s\u001b[0m eta \u001b[36m0:00:00\u001b[0m\n",
            "\u001b[?25h  Building wheel for py_vncorenlp (setup.py) ... \u001b[?25l\u001b[?25hdone\n"
          ]
        }
      ]
    },
    {
      "cell_type": "code",
      "source": [
        "import pandas as pd\n",
        "import re\n",
        "from vietnam_number import n2w\n",
        "import numpy as np\n",
        "import pandas as pd\n",
        "import py_vncorenlp\n",
        "import contextlib\n",
        "from sklearn.model_selection import train_test_split\n",
        "from transformers import AutoTokenizer, AutoModelForSequenceClassification\n",
        "import torch\n",
        "from torch.utils.data import DataLoader\n",
        "from sklearn.metrics import accuracy_score, classification_report\n",
        "from torch.optim import AdamW\n",
        "from tqdm import tqdm\n",
        "from torch.utils.data import TensorDataset, DataLoader\n",
        "from tqdm import tqdm\n",
        "\n"
      ],
      "metadata": {
        "id": "kklHoav55JqG"
      },
      "execution_count": null,
      "outputs": []
    },
    {
      "cell_type": "code",
      "source": [
        "!mkdir /content/vncorenlp\n",
        "py_vncorenlp.download_model(save_dir='./vncorenlp/')"
      ],
      "metadata": {
        "id": "_KaQ3t1R6iBs"
      },
      "execution_count": null,
      "outputs": []
    },
    {
      "cell_type": "code",
      "source": [
        "rdrsegmenter = py_vncorenlp.VnCoreNLP(annotators=[\"wseg\"], save_dir='/content/vncorenlp')"
      ],
      "metadata": {
        "id": "6oNZn8mY656S"
      },
      "execution_count": null,
      "outputs": []
    },
    {
      "cell_type": "markdown",
      "source": [
        "#Read dataset"
      ],
      "metadata": {
        "id": "Vlmc3wQUXdPC"
      }
    },
    {
      "cell_type": "code",
      "source": [
        "file_path='/content/train.csv'\n",
        "\n",
        "text_data = pd.read_csv(file_path, header=None, names=['label', 'content'])\n",
        "text_data\n"
      ],
      "metadata": {
        "colab": {
          "base_uri": "https://localhost:8080/",
          "height": 423
        },
        "id": "vkSvfdar4_dn",
        "outputId": "e383639d-4689-466d-d132-6a81dee64bbc"
      },
      "execution_count": null,
      "outputs": [
        {
          "output_type": "execute_result",
          "data": {
            "text/plain": [
              "      label                                            content\n",
              "0         0                             máy dùng hay bị đơ máy\n",
              "1         0  chỉ có dây cáp nguồn không có adapter sao sử d...\n",
              "2         0  Chất lượng quá kém Mới dùng được 2 ngày loa ba...\n",
              "3         0  Usb tôi vừa mới nhận usb này Rất bực bội vì cá...\n",
              "4         2                       Tuyệt vời. Hàng FPT cửa hàng\n",
              "...     ...                                                ...\n",
              "3035      0  không có bộ thu đi kèm Vừa nhận hàng xong tức ...\n",
              "3036      0  Cũng bình thường Không mạnh như kỹ vọng Chắc t...\n",
              "3037      2  tốt tốt đang tiền khi bỏ ra để mua giao hàng n...\n",
              "3038      0  giao hàng lâu rửa tay một tí đã cháy màn hình ...\n",
              "3039      2  quá tuyệt vời với giá và miễn phí giao hàng ch...\n",
              "\n",
              "[3040 rows x 2 columns]"
            ],
            "text/html": [
              "\n",
              "  <div id=\"df-8064ac6a-d28f-4012-a49a-5cd6f60605cd\" class=\"colab-df-container\">\n",
              "    <div>\n",
              "<style scoped>\n",
              "    .dataframe tbody tr th:only-of-type {\n",
              "        vertical-align: middle;\n",
              "    }\n",
              "\n",
              "    .dataframe tbody tr th {\n",
              "        vertical-align: top;\n",
              "    }\n",
              "\n",
              "    .dataframe thead th {\n",
              "        text-align: right;\n",
              "    }\n",
              "</style>\n",
              "<table border=\"1\" class=\"dataframe\">\n",
              "  <thead>\n",
              "    <tr style=\"text-align: right;\">\n",
              "      <th></th>\n",
              "      <th>label</th>\n",
              "      <th>content</th>\n",
              "    </tr>\n",
              "  </thead>\n",
              "  <tbody>\n",
              "    <tr>\n",
              "      <th>0</th>\n",
              "      <td>0</td>\n",
              "      <td>máy dùng hay bị đơ máy</td>\n",
              "    </tr>\n",
              "    <tr>\n",
              "      <th>1</th>\n",
              "      <td>0</td>\n",
              "      <td>chỉ có dây cáp nguồn không có adapter sao sử d...</td>\n",
              "    </tr>\n",
              "    <tr>\n",
              "      <th>2</th>\n",
              "      <td>0</td>\n",
              "      <td>Chất lượng quá kém Mới dùng được 2 ngày loa ba...</td>\n",
              "    </tr>\n",
              "    <tr>\n",
              "      <th>3</th>\n",
              "      <td>0</td>\n",
              "      <td>Usb tôi vừa mới nhận usb này Rất bực bội vì cá...</td>\n",
              "    </tr>\n",
              "    <tr>\n",
              "      <th>4</th>\n",
              "      <td>2</td>\n",
              "      <td>Tuyệt vời. Hàng FPT cửa hàng</td>\n",
              "    </tr>\n",
              "    <tr>\n",
              "      <th>...</th>\n",
              "      <td>...</td>\n",
              "      <td>...</td>\n",
              "    </tr>\n",
              "    <tr>\n",
              "      <th>3035</th>\n",
              "      <td>0</td>\n",
              "      <td>không có bộ thu đi kèm Vừa nhận hàng xong tức ...</td>\n",
              "    </tr>\n",
              "    <tr>\n",
              "      <th>3036</th>\n",
              "      <td>0</td>\n",
              "      <td>Cũng bình thường Không mạnh như kỹ vọng Chắc t...</td>\n",
              "    </tr>\n",
              "    <tr>\n",
              "      <th>3037</th>\n",
              "      <td>2</td>\n",
              "      <td>tốt tốt đang tiền khi bỏ ra để mua giao hàng n...</td>\n",
              "    </tr>\n",
              "    <tr>\n",
              "      <th>3038</th>\n",
              "      <td>0</td>\n",
              "      <td>giao hàng lâu rửa tay một tí đã cháy màn hình ...</td>\n",
              "    </tr>\n",
              "    <tr>\n",
              "      <th>3039</th>\n",
              "      <td>2</td>\n",
              "      <td>quá tuyệt vời với giá và miễn phí giao hàng ch...</td>\n",
              "    </tr>\n",
              "  </tbody>\n",
              "</table>\n",
              "<p>3040 rows × 2 columns</p>\n",
              "</div>\n",
              "    <div class=\"colab-df-buttons\">\n",
              "\n",
              "  <div class=\"colab-df-container\">\n",
              "    <button class=\"colab-df-convert\" onclick=\"convertToInteractive('df-8064ac6a-d28f-4012-a49a-5cd6f60605cd')\"\n",
              "            title=\"Convert this dataframe to an interactive table.\"\n",
              "            style=\"display:none;\">\n",
              "\n",
              "  <svg xmlns=\"http://www.w3.org/2000/svg\" height=\"24px\" viewBox=\"0 -960 960 960\">\n",
              "    <path d=\"M120-120v-720h720v720H120Zm60-500h600v-160H180v160Zm220 220h160v-160H400v160Zm0 220h160v-160H400v160ZM180-400h160v-160H180v160Zm440 0h160v-160H620v160ZM180-180h160v-160H180v160Zm440 0h160v-160H620v160Z\"/>\n",
              "  </svg>\n",
              "    </button>\n",
              "\n",
              "  <style>\n",
              "    .colab-df-container {\n",
              "      display:flex;\n",
              "      gap: 12px;\n",
              "    }\n",
              "\n",
              "    .colab-df-convert {\n",
              "      background-color: #E8F0FE;\n",
              "      border: none;\n",
              "      border-radius: 50%;\n",
              "      cursor: pointer;\n",
              "      display: none;\n",
              "      fill: #1967D2;\n",
              "      height: 32px;\n",
              "      padding: 0 0 0 0;\n",
              "      width: 32px;\n",
              "    }\n",
              "\n",
              "    .colab-df-convert:hover {\n",
              "      background-color: #E2EBFA;\n",
              "      box-shadow: 0px 1px 2px rgba(60, 64, 67, 0.3), 0px 1px 3px 1px rgba(60, 64, 67, 0.15);\n",
              "      fill: #174EA6;\n",
              "    }\n",
              "\n",
              "    .colab-df-buttons div {\n",
              "      margin-bottom: 4px;\n",
              "    }\n",
              "\n",
              "    [theme=dark] .colab-df-convert {\n",
              "      background-color: #3B4455;\n",
              "      fill: #D2E3FC;\n",
              "    }\n",
              "\n",
              "    [theme=dark] .colab-df-convert:hover {\n",
              "      background-color: #434B5C;\n",
              "      box-shadow: 0px 1px 3px 1px rgba(0, 0, 0, 0.15);\n",
              "      filter: drop-shadow(0px 1px 2px rgba(0, 0, 0, 0.3));\n",
              "      fill: #FFFFFF;\n",
              "    }\n",
              "  </style>\n",
              "\n",
              "    <script>\n",
              "      const buttonEl =\n",
              "        document.querySelector('#df-8064ac6a-d28f-4012-a49a-5cd6f60605cd button.colab-df-convert');\n",
              "      buttonEl.style.display =\n",
              "        google.colab.kernel.accessAllowed ? 'block' : 'none';\n",
              "\n",
              "      async function convertToInteractive(key) {\n",
              "        const element = document.querySelector('#df-8064ac6a-d28f-4012-a49a-5cd6f60605cd');\n",
              "        const dataTable =\n",
              "          await google.colab.kernel.invokeFunction('convertToInteractive',\n",
              "                                                    [key], {});\n",
              "        if (!dataTable) return;\n",
              "\n",
              "        const docLinkHtml = 'Like what you see? Visit the ' +\n",
              "          '<a target=\"_blank\" href=https://colab.research.google.com/notebooks/data_table.ipynb>data table notebook</a>'\n",
              "          + ' to learn more about interactive tables.';\n",
              "        element.innerHTML = '';\n",
              "        dataTable['output_type'] = 'display_data';\n",
              "        await google.colab.output.renderOutput(dataTable, element);\n",
              "        const docLink = document.createElement('div');\n",
              "        docLink.innerHTML = docLinkHtml;\n",
              "        element.appendChild(docLink);\n",
              "      }\n",
              "    </script>\n",
              "  </div>\n",
              "\n",
              "\n",
              "<div id=\"df-720e1115-c781-4cd2-9eeb-250b736f7b46\">\n",
              "  <button class=\"colab-df-quickchart\" onclick=\"quickchart('df-720e1115-c781-4cd2-9eeb-250b736f7b46')\"\n",
              "            title=\"Suggest charts\"\n",
              "            style=\"display:none;\">\n",
              "\n",
              "<svg xmlns=\"http://www.w3.org/2000/svg\" height=\"24px\"viewBox=\"0 0 24 24\"\n",
              "     width=\"24px\">\n",
              "    <g>\n",
              "        <path d=\"M19 3H5c-1.1 0-2 .9-2 2v14c0 1.1.9 2 2 2h14c1.1 0 2-.9 2-2V5c0-1.1-.9-2-2-2zM9 17H7v-7h2v7zm4 0h-2V7h2v10zm4 0h-2v-4h2v4z\"/>\n",
              "    </g>\n",
              "</svg>\n",
              "  </button>\n",
              "\n",
              "<style>\n",
              "  .colab-df-quickchart {\n",
              "      --bg-color: #E8F0FE;\n",
              "      --fill-color: #1967D2;\n",
              "      --hover-bg-color: #E2EBFA;\n",
              "      --hover-fill-color: #174EA6;\n",
              "      --disabled-fill-color: #AAA;\n",
              "      --disabled-bg-color: #DDD;\n",
              "  }\n",
              "\n",
              "  [theme=dark] .colab-df-quickchart {\n",
              "      --bg-color: #3B4455;\n",
              "      --fill-color: #D2E3FC;\n",
              "      --hover-bg-color: #434B5C;\n",
              "      --hover-fill-color: #FFFFFF;\n",
              "      --disabled-bg-color: #3B4455;\n",
              "      --disabled-fill-color: #666;\n",
              "  }\n",
              "\n",
              "  .colab-df-quickchart {\n",
              "    background-color: var(--bg-color);\n",
              "    border: none;\n",
              "    border-radius: 50%;\n",
              "    cursor: pointer;\n",
              "    display: none;\n",
              "    fill: var(--fill-color);\n",
              "    height: 32px;\n",
              "    padding: 0;\n",
              "    width: 32px;\n",
              "  }\n",
              "\n",
              "  .colab-df-quickchart:hover {\n",
              "    background-color: var(--hover-bg-color);\n",
              "    box-shadow: 0 1px 2px rgba(60, 64, 67, 0.3), 0 1px 3px 1px rgba(60, 64, 67, 0.15);\n",
              "    fill: var(--button-hover-fill-color);\n",
              "  }\n",
              "\n",
              "  .colab-df-quickchart-complete:disabled,\n",
              "  .colab-df-quickchart-complete:disabled:hover {\n",
              "    background-color: var(--disabled-bg-color);\n",
              "    fill: var(--disabled-fill-color);\n",
              "    box-shadow: none;\n",
              "  }\n",
              "\n",
              "  .colab-df-spinner {\n",
              "    border: 2px solid var(--fill-color);\n",
              "    border-color: transparent;\n",
              "    border-bottom-color: var(--fill-color);\n",
              "    animation:\n",
              "      spin 1s steps(1) infinite;\n",
              "  }\n",
              "\n",
              "  @keyframes spin {\n",
              "    0% {\n",
              "      border-color: transparent;\n",
              "      border-bottom-color: var(--fill-color);\n",
              "      border-left-color: var(--fill-color);\n",
              "    }\n",
              "    20% {\n",
              "      border-color: transparent;\n",
              "      border-left-color: var(--fill-color);\n",
              "      border-top-color: var(--fill-color);\n",
              "    }\n",
              "    30% {\n",
              "      border-color: transparent;\n",
              "      border-left-color: var(--fill-color);\n",
              "      border-top-color: var(--fill-color);\n",
              "      border-right-color: var(--fill-color);\n",
              "    }\n",
              "    40% {\n",
              "      border-color: transparent;\n",
              "      border-right-color: var(--fill-color);\n",
              "      border-top-color: var(--fill-color);\n",
              "    }\n",
              "    60% {\n",
              "      border-color: transparent;\n",
              "      border-right-color: var(--fill-color);\n",
              "    }\n",
              "    80% {\n",
              "      border-color: transparent;\n",
              "      border-right-color: var(--fill-color);\n",
              "      border-bottom-color: var(--fill-color);\n",
              "    }\n",
              "    90% {\n",
              "      border-color: transparent;\n",
              "      border-bottom-color: var(--fill-color);\n",
              "    }\n",
              "  }\n",
              "</style>\n",
              "\n",
              "  <script>\n",
              "    async function quickchart(key) {\n",
              "      const quickchartButtonEl =\n",
              "        document.querySelector('#' + key + ' button');\n",
              "      quickchartButtonEl.disabled = true;  // To prevent multiple clicks.\n",
              "      quickchartButtonEl.classList.add('colab-df-spinner');\n",
              "      try {\n",
              "        const charts = await google.colab.kernel.invokeFunction(\n",
              "            'suggestCharts', [key], {});\n",
              "      } catch (error) {\n",
              "        console.error('Error during call to suggestCharts:', error);\n",
              "      }\n",
              "      quickchartButtonEl.classList.remove('colab-df-spinner');\n",
              "      quickchartButtonEl.classList.add('colab-df-quickchart-complete');\n",
              "    }\n",
              "    (() => {\n",
              "      let quickchartButtonEl =\n",
              "        document.querySelector('#df-720e1115-c781-4cd2-9eeb-250b736f7b46 button');\n",
              "      quickchartButtonEl.style.display =\n",
              "        google.colab.kernel.accessAllowed ? 'block' : 'none';\n",
              "    })();\n",
              "  </script>\n",
              "</div>\n",
              "\n",
              "  <div id=\"id_448e7799-7c53-4223-9ce3-cea75dd3ef4b\">\n",
              "    <style>\n",
              "      .colab-df-generate {\n",
              "        background-color: #E8F0FE;\n",
              "        border: none;\n",
              "        border-radius: 50%;\n",
              "        cursor: pointer;\n",
              "        display: none;\n",
              "        fill: #1967D2;\n",
              "        height: 32px;\n",
              "        padding: 0 0 0 0;\n",
              "        width: 32px;\n",
              "      }\n",
              "\n",
              "      .colab-df-generate:hover {\n",
              "        background-color: #E2EBFA;\n",
              "        box-shadow: 0px 1px 2px rgba(60, 64, 67, 0.3), 0px 1px 3px 1px rgba(60, 64, 67, 0.15);\n",
              "        fill: #174EA6;\n",
              "      }\n",
              "\n",
              "      [theme=dark] .colab-df-generate {\n",
              "        background-color: #3B4455;\n",
              "        fill: #D2E3FC;\n",
              "      }\n",
              "\n",
              "      [theme=dark] .colab-df-generate:hover {\n",
              "        background-color: #434B5C;\n",
              "        box-shadow: 0px 1px 3px 1px rgba(0, 0, 0, 0.15);\n",
              "        filter: drop-shadow(0px 1px 2px rgba(0, 0, 0, 0.3));\n",
              "        fill: #FFFFFF;\n",
              "      }\n",
              "    </style>\n",
              "    <button class=\"colab-df-generate\" onclick=\"generateWithVariable('text_data')\"\n",
              "            title=\"Generate code using this dataframe.\"\n",
              "            style=\"display:none;\">\n",
              "\n",
              "  <svg xmlns=\"http://www.w3.org/2000/svg\" height=\"24px\"viewBox=\"0 0 24 24\"\n",
              "       width=\"24px\">\n",
              "    <path d=\"M7,19H8.4L18.45,9,17,7.55,7,17.6ZM5,21V16.75L18.45,3.32a2,2,0,0,1,2.83,0l1.4,1.43a1.91,1.91,0,0,1,.58,1.4,1.91,1.91,0,0,1-.58,1.4L9.25,21ZM18.45,9,17,7.55Zm-12,3A5.31,5.31,0,0,0,4.9,8.1,5.31,5.31,0,0,0,1,6.5,5.31,5.31,0,0,0,4.9,4.9,5.31,5.31,0,0,0,6.5,1,5.31,5.31,0,0,0,8.1,4.9,5.31,5.31,0,0,0,12,6.5,5.46,5.46,0,0,0,6.5,12Z\"/>\n",
              "  </svg>\n",
              "    </button>\n",
              "    <script>\n",
              "      (() => {\n",
              "      const buttonEl =\n",
              "        document.querySelector('#id_448e7799-7c53-4223-9ce3-cea75dd3ef4b button.colab-df-generate');\n",
              "      buttonEl.style.display =\n",
              "        google.colab.kernel.accessAllowed ? 'block' : 'none';\n",
              "\n",
              "      buttonEl.onclick = () => {\n",
              "        google.colab.notebook.generateWithVariable('text_data');\n",
              "      }\n",
              "      })();\n",
              "    </script>\n",
              "  </div>\n",
              "\n",
              "    </div>\n",
              "  </div>\n"
            ],
            "application/vnd.google.colaboratory.intrinsic+json": {
              "type": "dataframe",
              "variable_name": "text_data",
              "summary": "{\n  \"name\": \"text_data\",\n  \"rows\": 3040,\n  \"fields\": [\n    {\n      \"column\": \"label\",\n      \"properties\": {\n        \"dtype\": \"number\",\n        \"std\": 0,\n        \"min\": 0,\n        \"max\": 2,\n        \"num_unique_values\": 3,\n        \"samples\": [\n          0,\n          2,\n          1\n        ],\n        \"semantic_type\": \"\",\n        \"description\": \"\"\n      }\n    },\n    {\n      \"column\": \"content\",\n      \"properties\": {\n        \"dtype\": \"string\",\n        \"num_unique_values\": 2998,\n        \"samples\": [\n          \"v\\u1eeba r\\u1ebb ch\\u1ea5t l\\u01b0\\u1ee3ng l\\u1ea1i r\\u1ea5t t\\u1ed1t \\u1ea1\",\n          \"nhanh h\\u1ecfng, gi\\u00e1 v\\u1eady l\\u00e0 h\\u1ee3p l\\u00fd r\\u1ed3i\",\n          \"H\\u00e0i l\\u00f2ng Giao h\\u00e0ng nhanh s\\u1ea3n ph\\u1ea9m \\u0111\\u00fang m\\u00f4 t\\u1ea3 Thi\\u1ebft k\\u1ebf v\\u00e0 ch\\u1ea5t l\\u01b0\\u1ee3ng ho\\u00e0n thi\\u00ea\\u0323n t\\u1ed1t C\\u00f3 m\\u00e0n h\\u00ecnh tr\\u1ef1c quan d\\u1ec5 theo d\\u00f5i Nh\\u1ecf nh\\u1eb9 g\\u1ecdn k\\u00edch th\\u01b0\\u1edbc c\\u1ee1 th\\u1ebb ATM nh\\u00e9t v\\u1eeba t\\u00fai qu\\u1ea7n ti\\u1ec7n d\\u1ee5ng \\u0111\\u1ed1i v\\u1edbi ng\\u01b0\\u1eddi c\\u00f3 c\\u00f4ng vi\\u1ec7c th\\u01b0\\u01a1\\u0300ng xuy\\u00ean \\u0111i l\\u1ea1i H\\u01a1i th\\u1ea5t v\\u1ecdng v\\u00ec th\\u1eddi gian pin th\\u1ef1c t\\u1ebf kho\\u1ea3ng 5 ti\\u00ea\\u0301ng v\\u00e0 thi\\u1ebft b\\u1ecb ch\\u1ec9 ph\\u00e1t wifi \\u0111\\u01b0\\u1ee3c 1 b\\u0103ng t\\u1ea7n 24 GHz\"\n        ],\n        \"semantic_type\": \"\",\n        \"description\": \"\"\n      }\n    }\n  ]\n}"
            }
          },
          "metadata": {},
          "execution_count": 8
        }
      ]
    },
    {
      "cell_type": "markdown",
      "source": [
        "#Check Imbalanced data"
      ],
      "metadata": {
        "id": "iDkB_33nXgYd"
      }
    },
    {
      "cell_type": "code",
      "source": [
        "text_data['label'].value_counts()"
      ],
      "metadata": {
        "colab": {
          "base_uri": "https://localhost:8080/",
          "height": 209
        },
        "id": "qKHofK5A7S8i",
        "outputId": "dd3ecd5b-4ecb-4157-cd98-8db96c578604"
      },
      "execution_count": null,
      "outputs": [
        {
          "output_type": "execute_result",
          "data": {
            "text/plain": [
              "label\n",
              "0    1105\n",
              "2    1048\n",
              "1     887\n",
              "Name: count, dtype: int64"
            ],
            "text/html": [
              "<div>\n",
              "<style scoped>\n",
              "    .dataframe tbody tr th:only-of-type {\n",
              "        vertical-align: middle;\n",
              "    }\n",
              "\n",
              "    .dataframe tbody tr th {\n",
              "        vertical-align: top;\n",
              "    }\n",
              "\n",
              "    .dataframe thead th {\n",
              "        text-align: right;\n",
              "    }\n",
              "</style>\n",
              "<table border=\"1\" class=\"dataframe\">\n",
              "  <thead>\n",
              "    <tr style=\"text-align: right;\">\n",
              "      <th></th>\n",
              "      <th>count</th>\n",
              "    </tr>\n",
              "    <tr>\n",
              "      <th>label</th>\n",
              "      <th></th>\n",
              "    </tr>\n",
              "  </thead>\n",
              "  <tbody>\n",
              "    <tr>\n",
              "      <th>0</th>\n",
              "      <td>1105</td>\n",
              "    </tr>\n",
              "    <tr>\n",
              "      <th>2</th>\n",
              "      <td>1048</td>\n",
              "    </tr>\n",
              "    <tr>\n",
              "      <th>1</th>\n",
              "      <td>887</td>\n",
              "    </tr>\n",
              "  </tbody>\n",
              "</table>\n",
              "</div><br><label><b>dtype:</b> int64</label>"
            ]
          },
          "metadata": {},
          "execution_count": 9
        }
      ]
    },
    {
      "cell_type": "code",
      "source": [
        "text_data.isnull().sum()"
      ],
      "metadata": {
        "colab": {
          "base_uri": "https://localhost:8080/",
          "height": 147
        },
        "id": "pwqixkIw7dtK",
        "outputId": "a880b757-2ed5-4d62-937f-666d0bbcd47e"
      },
      "execution_count": null,
      "outputs": [
        {
          "output_type": "execute_result",
          "data": {
            "text/plain": [
              "label      0\n",
              "content    0\n",
              "dtype: int64"
            ],
            "text/html": [
              "<div>\n",
              "<style scoped>\n",
              "    .dataframe tbody tr th:only-of-type {\n",
              "        vertical-align: middle;\n",
              "    }\n",
              "\n",
              "    .dataframe tbody tr th {\n",
              "        vertical-align: top;\n",
              "    }\n",
              "\n",
              "    .dataframe thead th {\n",
              "        text-align: right;\n",
              "    }\n",
              "</style>\n",
              "<table border=\"1\" class=\"dataframe\">\n",
              "  <thead>\n",
              "    <tr style=\"text-align: right;\">\n",
              "      <th></th>\n",
              "      <th>0</th>\n",
              "    </tr>\n",
              "  </thead>\n",
              "  <tbody>\n",
              "    <tr>\n",
              "      <th>label</th>\n",
              "      <td>0</td>\n",
              "    </tr>\n",
              "    <tr>\n",
              "      <th>content</th>\n",
              "      <td>0</td>\n",
              "    </tr>\n",
              "  </tbody>\n",
              "</table>\n",
              "</div><br><label><b>dtype:</b> int64</label>"
            ]
          },
          "metadata": {},
          "execution_count": 10
        }
      ]
    },
    {
      "cell_type": "markdown",
      "source": [
        "#Check Duplicated"
      ],
      "metadata": {
        "id": "1J0bzJS9X4q5"
      }
    },
    {
      "cell_type": "code",
      "source": [
        "duplicates_data = text_data[text_data.duplicated(subset=['content'], keep=False)].sort_values(by='content')\n",
        "duplicates_data[['content', 'label']]"
      ],
      "metadata": {
        "colab": {
          "base_uri": "https://localhost:8080/",
          "height": 423
        },
        "id": "3nFKG2997ipr",
        "outputId": "cf17b742-179e-4104-e008-a770386dbd1d"
      },
      "execution_count": null,
      "outputs": [
        {
          "output_type": "execute_result",
          "data": {
            "text/plain": [
              "                                                content  label\n",
              "2511  Bình thường Cách đây 2 hôm mình có đặt mua thì...      1\n",
              "820   Bình thường Cách đây 2 hôm mình có đặt mua thì...      1\n",
              "1086  Bình thường Giao hàng nhanh sản phẩm tốt tùy n...      1\n",
              "727   Bình thường Giao hàng nhanh sản phẩm tốt tùy n...      1\n",
              "1749  Bình thường Sản phẩm ok Nhưng hàng giao quá ch...      1\n",
              "...                                                 ...    ...\n",
              "1608  ĐẶT MÀU CAM GIAO MÀU ĐEN Nhưng chất lượng máy ...      1\n",
              "2695  đo sức khỏe không đúng nếu mua vì giá và không...      1\n",
              "2002  đo sức khỏe không đúng nếu mua vì giá và không...      1\n",
              "2421  Ổn nhưng chưa hài lòng lắm Mình mua sản phẩm c...      1\n",
              "2490  Ổn nhưng chưa hài lòng lắm Mình mua sản phẩm c...      1\n",
              "\n",
              "[84 rows x 2 columns]"
            ],
            "text/html": [
              "\n",
              "  <div id=\"df-4822485a-d42d-41e4-89c9-897e637ddfb5\" class=\"colab-df-container\">\n",
              "    <div>\n",
              "<style scoped>\n",
              "    .dataframe tbody tr th:only-of-type {\n",
              "        vertical-align: middle;\n",
              "    }\n",
              "\n",
              "    .dataframe tbody tr th {\n",
              "        vertical-align: top;\n",
              "    }\n",
              "\n",
              "    .dataframe thead th {\n",
              "        text-align: right;\n",
              "    }\n",
              "</style>\n",
              "<table border=\"1\" class=\"dataframe\">\n",
              "  <thead>\n",
              "    <tr style=\"text-align: right;\">\n",
              "      <th></th>\n",
              "      <th>content</th>\n",
              "      <th>label</th>\n",
              "    </tr>\n",
              "  </thead>\n",
              "  <tbody>\n",
              "    <tr>\n",
              "      <th>2511</th>\n",
              "      <td>Bình thường Cách đây 2 hôm mình có đặt mua thì...</td>\n",
              "      <td>1</td>\n",
              "    </tr>\n",
              "    <tr>\n",
              "      <th>820</th>\n",
              "      <td>Bình thường Cách đây 2 hôm mình có đặt mua thì...</td>\n",
              "      <td>1</td>\n",
              "    </tr>\n",
              "    <tr>\n",
              "      <th>1086</th>\n",
              "      <td>Bình thường Giao hàng nhanh sản phẩm tốt tùy n...</td>\n",
              "      <td>1</td>\n",
              "    </tr>\n",
              "    <tr>\n",
              "      <th>727</th>\n",
              "      <td>Bình thường Giao hàng nhanh sản phẩm tốt tùy n...</td>\n",
              "      <td>1</td>\n",
              "    </tr>\n",
              "    <tr>\n",
              "      <th>1749</th>\n",
              "      <td>Bình thường Sản phẩm ok Nhưng hàng giao quá ch...</td>\n",
              "      <td>1</td>\n",
              "    </tr>\n",
              "    <tr>\n",
              "      <th>...</th>\n",
              "      <td>...</td>\n",
              "      <td>...</td>\n",
              "    </tr>\n",
              "    <tr>\n",
              "      <th>1608</th>\n",
              "      <td>ĐẶT MÀU CAM GIAO MÀU ĐEN Nhưng chất lượng máy ...</td>\n",
              "      <td>1</td>\n",
              "    </tr>\n",
              "    <tr>\n",
              "      <th>2695</th>\n",
              "      <td>đo sức khỏe không đúng nếu mua vì giá và không...</td>\n",
              "      <td>1</td>\n",
              "    </tr>\n",
              "    <tr>\n",
              "      <th>2002</th>\n",
              "      <td>đo sức khỏe không đúng nếu mua vì giá và không...</td>\n",
              "      <td>1</td>\n",
              "    </tr>\n",
              "    <tr>\n",
              "      <th>2421</th>\n",
              "      <td>Ổn nhưng chưa hài lòng lắm Mình mua sản phẩm c...</td>\n",
              "      <td>1</td>\n",
              "    </tr>\n",
              "    <tr>\n",
              "      <th>2490</th>\n",
              "      <td>Ổn nhưng chưa hài lòng lắm Mình mua sản phẩm c...</td>\n",
              "      <td>1</td>\n",
              "    </tr>\n",
              "  </tbody>\n",
              "</table>\n",
              "<p>84 rows × 2 columns</p>\n",
              "</div>\n",
              "    <div class=\"colab-df-buttons\">\n",
              "\n",
              "  <div class=\"colab-df-container\">\n",
              "    <button class=\"colab-df-convert\" onclick=\"convertToInteractive('df-4822485a-d42d-41e4-89c9-897e637ddfb5')\"\n",
              "            title=\"Convert this dataframe to an interactive table.\"\n",
              "            style=\"display:none;\">\n",
              "\n",
              "  <svg xmlns=\"http://www.w3.org/2000/svg\" height=\"24px\" viewBox=\"0 -960 960 960\">\n",
              "    <path d=\"M120-120v-720h720v720H120Zm60-500h600v-160H180v160Zm220 220h160v-160H400v160Zm0 220h160v-160H400v160ZM180-400h160v-160H180v160Zm440 0h160v-160H620v160ZM180-180h160v-160H180v160Zm440 0h160v-160H620v160Z\"/>\n",
              "  </svg>\n",
              "    </button>\n",
              "\n",
              "  <style>\n",
              "    .colab-df-container {\n",
              "      display:flex;\n",
              "      gap: 12px;\n",
              "    }\n",
              "\n",
              "    .colab-df-convert {\n",
              "      background-color: #E8F0FE;\n",
              "      border: none;\n",
              "      border-radius: 50%;\n",
              "      cursor: pointer;\n",
              "      display: none;\n",
              "      fill: #1967D2;\n",
              "      height: 32px;\n",
              "      padding: 0 0 0 0;\n",
              "      width: 32px;\n",
              "    }\n",
              "\n",
              "    .colab-df-convert:hover {\n",
              "      background-color: #E2EBFA;\n",
              "      box-shadow: 0px 1px 2px rgba(60, 64, 67, 0.3), 0px 1px 3px 1px rgba(60, 64, 67, 0.15);\n",
              "      fill: #174EA6;\n",
              "    }\n",
              "\n",
              "    .colab-df-buttons div {\n",
              "      margin-bottom: 4px;\n",
              "    }\n",
              "\n",
              "    [theme=dark] .colab-df-convert {\n",
              "      background-color: #3B4455;\n",
              "      fill: #D2E3FC;\n",
              "    }\n",
              "\n",
              "    [theme=dark] .colab-df-convert:hover {\n",
              "      background-color: #434B5C;\n",
              "      box-shadow: 0px 1px 3px 1px rgba(0, 0, 0, 0.15);\n",
              "      filter: drop-shadow(0px 1px 2px rgba(0, 0, 0, 0.3));\n",
              "      fill: #FFFFFF;\n",
              "    }\n",
              "  </style>\n",
              "\n",
              "    <script>\n",
              "      const buttonEl =\n",
              "        document.querySelector('#df-4822485a-d42d-41e4-89c9-897e637ddfb5 button.colab-df-convert');\n",
              "      buttonEl.style.display =\n",
              "        google.colab.kernel.accessAllowed ? 'block' : 'none';\n",
              "\n",
              "      async function convertToInteractive(key) {\n",
              "        const element = document.querySelector('#df-4822485a-d42d-41e4-89c9-897e637ddfb5');\n",
              "        const dataTable =\n",
              "          await google.colab.kernel.invokeFunction('convertToInteractive',\n",
              "                                                    [key], {});\n",
              "        if (!dataTable) return;\n",
              "\n",
              "        const docLinkHtml = 'Like what you see? Visit the ' +\n",
              "          '<a target=\"_blank\" href=https://colab.research.google.com/notebooks/data_table.ipynb>data table notebook</a>'\n",
              "          + ' to learn more about interactive tables.';\n",
              "        element.innerHTML = '';\n",
              "        dataTable['output_type'] = 'display_data';\n",
              "        await google.colab.output.renderOutput(dataTable, element);\n",
              "        const docLink = document.createElement('div');\n",
              "        docLink.innerHTML = docLinkHtml;\n",
              "        element.appendChild(docLink);\n",
              "      }\n",
              "    </script>\n",
              "  </div>\n",
              "\n",
              "\n",
              "<div id=\"df-4529b976-b78f-46f2-8d5d-bc47eddc8035\">\n",
              "  <button class=\"colab-df-quickchart\" onclick=\"quickchart('df-4529b976-b78f-46f2-8d5d-bc47eddc8035')\"\n",
              "            title=\"Suggest charts\"\n",
              "            style=\"display:none;\">\n",
              "\n",
              "<svg xmlns=\"http://www.w3.org/2000/svg\" height=\"24px\"viewBox=\"0 0 24 24\"\n",
              "     width=\"24px\">\n",
              "    <g>\n",
              "        <path d=\"M19 3H5c-1.1 0-2 .9-2 2v14c0 1.1.9 2 2 2h14c1.1 0 2-.9 2-2V5c0-1.1-.9-2-2-2zM9 17H7v-7h2v7zm4 0h-2V7h2v10zm4 0h-2v-4h2v4z\"/>\n",
              "    </g>\n",
              "</svg>\n",
              "  </button>\n",
              "\n",
              "<style>\n",
              "  .colab-df-quickchart {\n",
              "      --bg-color: #E8F0FE;\n",
              "      --fill-color: #1967D2;\n",
              "      --hover-bg-color: #E2EBFA;\n",
              "      --hover-fill-color: #174EA6;\n",
              "      --disabled-fill-color: #AAA;\n",
              "      --disabled-bg-color: #DDD;\n",
              "  }\n",
              "\n",
              "  [theme=dark] .colab-df-quickchart {\n",
              "      --bg-color: #3B4455;\n",
              "      --fill-color: #D2E3FC;\n",
              "      --hover-bg-color: #434B5C;\n",
              "      --hover-fill-color: #FFFFFF;\n",
              "      --disabled-bg-color: #3B4455;\n",
              "      --disabled-fill-color: #666;\n",
              "  }\n",
              "\n",
              "  .colab-df-quickchart {\n",
              "    background-color: var(--bg-color);\n",
              "    border: none;\n",
              "    border-radius: 50%;\n",
              "    cursor: pointer;\n",
              "    display: none;\n",
              "    fill: var(--fill-color);\n",
              "    height: 32px;\n",
              "    padding: 0;\n",
              "    width: 32px;\n",
              "  }\n",
              "\n",
              "  .colab-df-quickchart:hover {\n",
              "    background-color: var(--hover-bg-color);\n",
              "    box-shadow: 0 1px 2px rgba(60, 64, 67, 0.3), 0 1px 3px 1px rgba(60, 64, 67, 0.15);\n",
              "    fill: var(--button-hover-fill-color);\n",
              "  }\n",
              "\n",
              "  .colab-df-quickchart-complete:disabled,\n",
              "  .colab-df-quickchart-complete:disabled:hover {\n",
              "    background-color: var(--disabled-bg-color);\n",
              "    fill: var(--disabled-fill-color);\n",
              "    box-shadow: none;\n",
              "  }\n",
              "\n",
              "  .colab-df-spinner {\n",
              "    border: 2px solid var(--fill-color);\n",
              "    border-color: transparent;\n",
              "    border-bottom-color: var(--fill-color);\n",
              "    animation:\n",
              "      spin 1s steps(1) infinite;\n",
              "  }\n",
              "\n",
              "  @keyframes spin {\n",
              "    0% {\n",
              "      border-color: transparent;\n",
              "      border-bottom-color: var(--fill-color);\n",
              "      border-left-color: var(--fill-color);\n",
              "    }\n",
              "    20% {\n",
              "      border-color: transparent;\n",
              "      border-left-color: var(--fill-color);\n",
              "      border-top-color: var(--fill-color);\n",
              "    }\n",
              "    30% {\n",
              "      border-color: transparent;\n",
              "      border-left-color: var(--fill-color);\n",
              "      border-top-color: var(--fill-color);\n",
              "      border-right-color: var(--fill-color);\n",
              "    }\n",
              "    40% {\n",
              "      border-color: transparent;\n",
              "      border-right-color: var(--fill-color);\n",
              "      border-top-color: var(--fill-color);\n",
              "    }\n",
              "    60% {\n",
              "      border-color: transparent;\n",
              "      border-right-color: var(--fill-color);\n",
              "    }\n",
              "    80% {\n",
              "      border-color: transparent;\n",
              "      border-right-color: var(--fill-color);\n",
              "      border-bottom-color: var(--fill-color);\n",
              "    }\n",
              "    90% {\n",
              "      border-color: transparent;\n",
              "      border-bottom-color: var(--fill-color);\n",
              "    }\n",
              "  }\n",
              "</style>\n",
              "\n",
              "  <script>\n",
              "    async function quickchart(key) {\n",
              "      const quickchartButtonEl =\n",
              "        document.querySelector('#' + key + ' button');\n",
              "      quickchartButtonEl.disabled = true;  // To prevent multiple clicks.\n",
              "      quickchartButtonEl.classList.add('colab-df-spinner');\n",
              "      try {\n",
              "        const charts = await google.colab.kernel.invokeFunction(\n",
              "            'suggestCharts', [key], {});\n",
              "      } catch (error) {\n",
              "        console.error('Error during call to suggestCharts:', error);\n",
              "      }\n",
              "      quickchartButtonEl.classList.remove('colab-df-spinner');\n",
              "      quickchartButtonEl.classList.add('colab-df-quickchart-complete');\n",
              "    }\n",
              "    (() => {\n",
              "      let quickchartButtonEl =\n",
              "        document.querySelector('#df-4529b976-b78f-46f2-8d5d-bc47eddc8035 button');\n",
              "      quickchartButtonEl.style.display =\n",
              "        google.colab.kernel.accessAllowed ? 'block' : 'none';\n",
              "    })();\n",
              "  </script>\n",
              "</div>\n",
              "\n",
              "    </div>\n",
              "  </div>\n"
            ],
            "application/vnd.google.colaboratory.intrinsic+json": {
              "type": "dataframe",
              "summary": "{\n  \"name\": \"duplicates_data[['content', 'label']]\",\n  \"rows\": 84,\n  \"fields\": [\n    {\n      \"column\": \"content\",\n      \"properties\": {\n        \"dtype\": \"string\",\n        \"num_unique_values\": 42,\n        \"samples\": [\n          \"giao h\\u00e0ng l\\u00e2u r\\u1eeda tay m\\u1ed9t t\\u00ed \\u0111\\u00e3 ch\\u00e1y m\\u00e0n h\\u00ecnh t\\u00f3m l\\u1ea1i l\\u00e0 kh\\u00f4ng ch\\u1ed1ng n\\u01b0\\u1edbc\",\n          \"Kh\\u00f4ng th\\u1ec3 t\\u0103ng gi\\u1ea3m \\u00e2m l\\u01b0\\u1ee3ng trong \\u0111i\\u1ec1u khi\\u1ec3n nh\\u1ea1c M\\u00ecnh mua d\\u00f9ng \\u0111\\u01b0\\u1ee3c 1 ng\\u00e0y l\\u00fac m\\u1edbi th\\u1eed th\\u00ec v\\u1eabn t\\u0103ng gi\\u1ea3m \\u00e2m l\\u01b0\\u1ee3ng \\u0111\\u01b0\\u1ee3c nh\\u01b0ng gi\\u1edd b\\u1ea5m v\\u00e0o t\\u0103ng ho\\u1eb7c gi\\u1ea3m th\\u00ec \\u0111i\\u1ec1u kh\\u00f4ng c\\u00f3 g\\u00ec thay \\u0111\\u1ed5i b\\u1ea5m ng\\u1eebng b\\u00e0i v\\u1edbi chuy\\u1ec3n b\\u00e0i th\\u00ec v\\u1eabn \\u0111\\u01b0\\u1ee3c nh\\u01b0ng t\\u0103ng gi\\u1ea3m \\u00e2m l\\u01b0\\u1ee3ng th\\u00ec kh\\u00f4ng \\u0111\\u01b0\\u1ee3c Xin h\\u1ecfi \\u0111\\u00e2y l\\u00e0 l\\u1ed7i c\\u1ee7a Mi band 4 \\u0111\\u00fang kh\\u00f4ng \\u1ea1 C\\u00f3 th\\u1ec3 \\u0111\\u1ed5i tr\\u1ea3 kh\\u00f4ng \\u1ea1\",\n          \"H\\u00e0ng m\\u1edbi mua v\\u1ec1 th\\u00ec \\u0111\\u00e3 s\\u1ea1c kh\\u00f4ng v\\u00f4 r\\u1ed3i \\u0111\\u1ee3i m\\u00e3i v\\u1eabn kh\\u00f4ng c\\u00f3 ch\\u00fat pin\"\n        ],\n        \"semantic_type\": \"\",\n        \"description\": \"\"\n      }\n    },\n    {\n      \"column\": \"label\",\n      \"properties\": {\n        \"dtype\": \"number\",\n        \"std\": 0,\n        \"min\": 0,\n        \"max\": 2,\n        \"num_unique_values\": 3,\n        \"samples\": [\n          1,\n          2,\n          0\n        ],\n        \"semantic_type\": \"\",\n        \"description\": \"\"\n      }\n    }\n  ]\n}"
            }
          },
          "metadata": {},
          "execution_count": 11
        }
      ]
    },
    {
      "cell_type": "code",
      "source": [
        "text_data.drop_duplicates(subset=['content'], inplace=True)"
      ],
      "metadata": {
        "id": "R3gWbraT9Nd_"
      },
      "execution_count": null,
      "outputs": []
    },
    {
      "cell_type": "code",
      "source": [
        "text_data.reset_index(drop=True, inplace=True)"
      ],
      "metadata": {
        "id": "z2Cx2N3L9VRV"
      },
      "execution_count": null,
      "outputs": []
    },
    {
      "cell_type": "code",
      "source": [
        "text_data['label'].value_counts()"
      ],
      "metadata": {
        "colab": {
          "base_uri": "https://localhost:8080/",
          "height": 209
        },
        "id": "44UzVY379ZqB",
        "outputId": "4e9af19f-6f7c-424d-e318-eec6d8df2cb3"
      },
      "execution_count": null,
      "outputs": [
        {
          "output_type": "execute_result",
          "data": {
            "text/plain": [
              "label\n",
              "0    1090\n",
              "2    1041\n",
              "1     867\n",
              "Name: count, dtype: int64"
            ],
            "text/html": [
              "<div>\n",
              "<style scoped>\n",
              "    .dataframe tbody tr th:only-of-type {\n",
              "        vertical-align: middle;\n",
              "    }\n",
              "\n",
              "    .dataframe tbody tr th {\n",
              "        vertical-align: top;\n",
              "    }\n",
              "\n",
              "    .dataframe thead th {\n",
              "        text-align: right;\n",
              "    }\n",
              "</style>\n",
              "<table border=\"1\" class=\"dataframe\">\n",
              "  <thead>\n",
              "    <tr style=\"text-align: right;\">\n",
              "      <th></th>\n",
              "      <th>count</th>\n",
              "    </tr>\n",
              "    <tr>\n",
              "      <th>label</th>\n",
              "      <th></th>\n",
              "    </tr>\n",
              "  </thead>\n",
              "  <tbody>\n",
              "    <tr>\n",
              "      <th>0</th>\n",
              "      <td>1090</td>\n",
              "    </tr>\n",
              "    <tr>\n",
              "      <th>2</th>\n",
              "      <td>1041</td>\n",
              "    </tr>\n",
              "    <tr>\n",
              "      <th>1</th>\n",
              "      <td>867</td>\n",
              "    </tr>\n",
              "  </tbody>\n",
              "</table>\n",
              "</div><br><label><b>dtype:</b> int64</label>"
            ]
          },
          "metadata": {},
          "execution_count": 14
        }
      ]
    },
    {
      "cell_type": "markdown",
      "source": [
        "#Prepare for Model"
      ],
      "metadata": {
        "id": "dfQPl6HBXvrn"
      }
    },
    {
      "cell_type": "code",
      "source": [
        "import re\n",
        "\n",
        "class Preprocessing:\n",
        "    def __init__(self, n2w, rdrsegmenter):\n",
        "        self.n2w = n2w\n",
        "        self.rdrsegmenter = rdrsegmenter\n",
        "\n",
        "\n",
        "\n",
        "    def processing(self, text):\n",
        "        \"\"\"Process input text by normalizing, replacing tokens, and segmenting.\"\"\"\n",
        "        # Step 1: Basic text cleaning and lowercase conversion\n",
        "        text = self._clean_text(text)\n",
        "\n",
        "\n",
        "        # Step 2: Replace emojis\n",
        "        text = self._replace_emojis(text)\n",
        "\n",
        "        # Step 3: Apply custom replacements for units and symbols\n",
        "        text = self._replace_units_and_symbols(text)\n",
        "\n",
        "        # Step 4: Convert numbers to words if they exist\n",
        "        text = self._convert_numbers_to_words(text)\n",
        "\n",
        "        #Step 5:Replace special character\n",
        "        text = self._remove_special_characters(text)\n",
        "\n",
        "\n",
        "\n",
        "\n",
        "        # Step 6: Text segmentation and normalization\n",
        "        text = self._segment_text(text)\n",
        "\n",
        "        return text\n",
        "\n",
        "    def _clean_text(self, text):\n",
        "        \"\"\"Convert to lowercase and strip excess whitespace.\"\"\"\n",
        "        return text.strip().lower()\n",
        "\n",
        "    def _replace_emojis(self, text):\n",
        "        \"\"\"Remove emojis from the text.\"\"\"\n",
        "        emoji_pattern = re.compile(\n",
        "            \"[\" u\"\\U0001F600-\\U0001F64F\"  # emoticons\n",
        "            u\"\\U0001F300-\\U0001F5FF\"  # symbols & pictographs\n",
        "            u\"\\U0001F680-\\U0001F6FF\"  # transport & map symbols\n",
        "            u\"\\U0001F700-\\U0001F77F\"  # alchemical symbols\n",
        "            u\"\\U0001F780-\\U0001F7FF\"  # geometric shapes extended\n",
        "            u\"\\U0001F800-\\U0001F8FF\"  # supplemental arrows-C\n",
        "            u\"\\U0001F900-\\U0001F9FF\"  # supplemental symbols & pictographs\n",
        "            u\"\\U0001FA00-\\U0001FA6F\"  # chess symbols\n",
        "            u\"\\U0001FA70-\\U0001FAFF\"  # symbols & pictographs extended-A\n",
        "            u\"\\U00002702-\\U000027B0\"  # dingbats\n",
        "            u\"\\U000024C2-\\U0001F251\"  # enclosed characters\n",
        "            \"]+\", flags=re.UNICODE)\n",
        "        return emoji_pattern.sub(r'', text)\n",
        "\n",
        "    def _replace_units_and_symbols(self, text):\n",
        "        \"\"\"Replace shorthand units with their full word equivalents.\"\"\"\n",
        "        replacements = [\n",
        "            (r'(\\d+)k', r'\\1 ngàn'),  # Replace 'k' with 'ngàn'\n",
        "            (r'(\\d+)%', r'\\1 phần trăm'),  # Replace '%' with 'phần trăm'\n",
        "            (r'(\\d+)m(?![a-zA-Z])', r'\\1 mét'),  # Replace 'm' with 'mét'\n",
        "            (r'(\\d+)s(?![a-zA-Z])', r'\\1 giây'),  # Replace 's' with 'giây'\n",
        "            (r'(\\d+)\\'(?![a-zA-Z])', r'\\1 phút'),  # Replace '\\'' with 'phút'\n",
        "            (r'(\\d+)h(?![a-zA-Z])', r'\\1 giờ')  # Replace 'h' with 'giờ'\n",
        "        ]\n",
        "        for pattern, replacement in replacements:\n",
        "            text = re.sub(pattern, replacement, text)\n",
        "        return text\n",
        "\n",
        "    def _convert_numbers_to_words(self, text):\n",
        "        \"\"\"Convert numeric values in text to their word representation.\"\"\"\n",
        "        return re.sub(r'\\d+', lambda x: self.n2w(x.group()), text)\n",
        "    def _remove_special_characters(self, text):\n",
        "        \"\"\"Remove special characters from the text.\"\"\"\n",
        "        return  re.sub(r'[^\\w\\s]', '', text)\n",
        "\n",
        "\n",
        "\n",
        "\n",
        "\n",
        "\n",
        "    def _segment_text(self, text):\n",
        "        \"\"\"Normalize and segment the text.\"\"\"\n",
        "        return ''.join(self.rdrsegmenter.word_segment(text))\n"
      ],
      "metadata": {
        "id": "hgPTImib5Edv"
      },
      "execution_count": null,
      "outputs": []
    },
    {
      "cell_type": "code",
      "source": [
        "examples = [\n",
        "    \"Hello 2k world! 😊\",\n",
        "    \"Đi bộ 100m trong 5 phút\",\n",
        "    \"Nhiệt độ giảm 10% trong 30s\",\n",
        "    \"Chạy 1h với tốc độ 5km/h\",\n",
        "    \"1234\",\n",
        "]\n",
        "preprocessor = Preprocessing(n2w, rdrsegmenter)\n",
        "\n",
        "\n",
        "\n",
        "for example in examples:\n",
        "    print(\"Input:\", example)\n",
        "    print(\"Output:\", preprocessor.processing(example))\n",
        "    print(\"=\" * 50)"
      ],
      "metadata": {
        "colab": {
          "base_uri": "https://localhost:8080/"
        },
        "id": "IqB00wqE-g5g",
        "outputId": "2fad7971-5f3c-47f4-f0ac-4c5d8695e0d4"
      },
      "execution_count": null,
      "outputs": [
        {
          "output_type": "stream",
          "name": "stdout",
          "text": [
            "Input: Hello 2k world! 😊\n",
            "Output: hello hai ngàn world\n",
            "==================================================\n",
            "Input: Đi bộ 100m trong 5 phút\n",
            "Output: đi bộ một trăm mét trong năm phút\n",
            "==================================================\n",
            "Input: Nhiệt độ giảm 10% trong 30s\n",
            "Output: nhiệt_độ giảm mười phần_trăm trong ba_mươi giây\n",
            "==================================================\n",
            "Input: Chạy 1h với tốc độ 5km/h\n",
            "Output: chạy một giờ với tốc_độ năm ngànmh\n",
            "==================================================\n",
            "Input: 1234\n",
            "Output: một_nghìn_hai_trăm ba_mươi bốn\n",
            "==================================================\n"
          ]
        }
      ]
    },
    {
      "cell_type": "code",
      "source": [
        "data = text_data.copy()\n",
        "data['content'] = data['content'].apply(preprocessor.processing)"
      ],
      "metadata": {
        "id": "-C3rDfCEBjiq"
      },
      "execution_count": null,
      "outputs": []
    },
    {
      "cell_type": "code",
      "source": [
        "data.info()"
      ],
      "metadata": {
        "colab": {
          "base_uri": "https://localhost:8080/"
        },
        "id": "Ww4gB5xTCFGJ",
        "outputId": "3e9a406f-1e4c-4814-8656-46af152eb70c"
      },
      "execution_count": null,
      "outputs": [
        {
          "output_type": "stream",
          "name": "stdout",
          "text": [
            "<class 'pandas.core.frame.DataFrame'>\n",
            "RangeIndex: 2998 entries, 0 to 2997\n",
            "Data columns (total 2 columns):\n",
            " #   Column   Non-Null Count  Dtype \n",
            "---  ------   --------------  ----- \n",
            " 0   label    2998 non-null   int64 \n",
            " 1   content  2998 non-null   object\n",
            "dtypes: int64(1), object(1)\n",
            "memory usage: 47.0+ KB\n"
          ]
        }
      ]
    },
    {
      "cell_type": "code",
      "source": [
        "class CustomDataset(torch.utils.data.Dataset):\n",
        "    def __init__(self,data,tokenize,max_length=128):\n",
        "        self.data = data\n",
        "        self.text=data['content'].tolist()\n",
        "        self.labels=data['label'].tolist()\n",
        "        self.tokenizer=tokenize\n",
        "        self.max_length=max_length\n",
        "\n",
        "    def __len__(self):\n",
        "        return len(self.data)\n",
        "    def __getitem__(self, idx):\n",
        "\n",
        "        content=self.text[idx]\n",
        "        label=self.labels[idx]\n",
        "        encoding=self.tokenizer.encode_plus(\n",
        "            content,\n",
        "            add_special_tokens=True,\n",
        "            max_length=self.max_length,\n",
        "            padding='max_length',\n",
        "            truncation=True,\n",
        "            return_attention_mask=True,\n",
        "            return_tensors='pt'\n",
        "        )\n",
        "        return {\n",
        "            'input_ids': encoding['input_ids'].flatten(),\n",
        "            'attention_mask': encoding['attention_mask'].flatten(),\n",
        "            'label': torch.tensor(label, dtype=torch.long)\n",
        "        }\n",
        "\n",
        "\n",
        "\n",
        "\n",
        "\n"
      ],
      "metadata": {
        "id": "92umCBTjCLOp"
      },
      "execution_count": null,
      "outputs": []
    },
    {
      "cell_type": "code",
      "source": [
        "def collate_fn(batch):\n",
        "  input_ids=[]\n",
        "  attention_mask=[]\n",
        "  label=[]\n",
        "  for i  in batch:\n",
        "    input_ids.append(i['input_ids'])\n",
        "    attention_mask.append(i['attention_mask'])\n",
        "    label.append(i['label'])\n",
        "\n",
        "  input_ids= torch.nn.utils.rnn.pad_sequence(input_ids,\n",
        "                                                    batch_first=True,\n",
        "                                                    padding_value=tokenizer.pad_token_id)\n",
        "  attention_mask= torch.nn.utils.rnn.pad_sequence(attention_mask,\n",
        "                                                    batch_first=True,\n",
        "                                                    padding_value=0)\n",
        "\n",
        "  return input_ids,attention_mask,torch.tensor(label)"
      ],
      "metadata": {
        "id": "pouTfUbEJPC4"
      },
      "execution_count": null,
      "outputs": []
    },
    {
      "cell_type": "code",
      "source": [
        "tokenizer = AutoTokenizer.from_pretrained(\"vinai/phobert-base\")\n",
        "dataset = CustomDataset(data,tokenizer)\n",
        "train_data, test_data = train_test_split(dataset, test_size=0.2, random_state=42,shuffle=True,stratify=dataset.labels)\n",
        "train_data, val_data = train_test_split(\n",
        "    train_data,\n",
        "    test_size=0.25,\n",
        "    random_state=42,\n",
        "    stratify=[item['label'] for item in train_data]\n",
        ")\n",
        "\n",
        "\n",
        "train_loader=DataLoader(train_data,batch_size=124,shuffle=True,collate_fn=collate_fn)\n",
        "val_loader=DataLoader(val_data,batch_size=124,shuffle=False,collate_fn=collate_fn)\n",
        "test_loader=DataLoader(test_data,batch_size=124,shuffle=False,collate_fn=collate_fn)\n"
      ],
      "metadata": {
        "colab": {
          "base_uri": "https://localhost:8080/"
        },
        "id": "-M6P9WoBDEgx",
        "outputId": "e905846c-cf8d-4254-e787-17fa3863976a"
      },
      "execution_count": null,
      "outputs": [
        {
          "output_type": "stream",
          "name": "stderr",
          "text": [
            "/usr/local/lib/python3.10/dist-packages/transformers/tokenization_utils_base.py:1601: FutureWarning: `clean_up_tokenization_spaces` was not set. It will be set to `True` by default. This behavior will be depracted in transformers v4.45, and will be then set to `False` by default. For more details check this issue: https://github.com/huggingface/transformers/issues/31884\n",
            "  warnings.warn(\n"
          ]
        }
      ]
    },
    {
      "cell_type": "code",
      "source": [
        "phobert_model = AutoModelForSequenceClassification.from_pretrained(\"vinai/phobert-base\", num_labels=3)\n",
        "optimizer = AdamW(phobert_model.parameters(), lr=2e-5)\n",
        "device = torch.device(\"cuda\" if torch.cuda.is_available() else \"cpu\")\n",
        "phobert_model.to(device)\n",
        "num_epochs = 10\n"
      ],
      "metadata": {
        "colab": {
          "base_uri": "https://localhost:8080/"
        },
        "id": "NExBSJdBKSYR",
        "outputId": "d30ccc33-61a2-4a9c-9021-7e8c19226358"
      },
      "execution_count": null,
      "outputs": [
        {
          "output_type": "stream",
          "name": "stderr",
          "text": [
            "Some weights of RobertaForSequenceClassification were not initialized from the model checkpoint at vinai/phobert-base and are newly initialized: ['classifier.dense.bias', 'classifier.dense.weight', 'classifier.out_proj.bias', 'classifier.out_proj.weight']\n",
            "You should probably TRAIN this model on a down-stream task to be able to use it for predictions and inference.\n"
          ]
        }
      ]
    },
    {
      "cell_type": "markdown",
      "source": [
        "#Train and Test model"
      ],
      "metadata": {
        "id": "deckzSbaYInT"
      }
    },
    {
      "cell_type": "code",
      "source": [
        "\n",
        "\n",
        "def train(model, train_loader, val_loader, optimizer, device, num_epochs, patience=5):\n",
        "    best_accuracy = 0\n",
        "    no_improve = 0\n",
        "\n",
        "    for epoch in range(num_epochs):\n",
        "        print(f\"\\nEpoch {epoch + 1}/{num_epochs}\")\n",
        "\n",
        "        # Training\n",
        "        model.train()\n",
        "        train_loss = 0\n",
        "        train_accuracy = 0\n",
        "\n",
        "        for batch in tqdm(train_loader, desc=\"Training\"):\n",
        "            input_ids, attention_mask, labels = batch\n",
        "\n",
        "            input_ids = input_ids.to(device)\n",
        "            attention_mask = attention_mask.to(device)\n",
        "            labels = labels.to(device)\n",
        "\n",
        "            optimizer.zero_grad()\n",
        "            output = model(input_ids=input_ids, attention_mask=attention_mask, labels=labels)\n",
        "\n",
        "            # Backpropagation\n",
        "            loss = output.loss\n",
        "            train_loss += loss.item()\n",
        "            preds = torch.argmax(output.logits, dim=1)\n",
        "            train_accuracy += accuracy_score(labels.cpu().numpy(), preds.cpu().numpy())\n",
        "\n",
        "            loss.backward()\n",
        "            optimizer.step()\n",
        "\n",
        "        avg_train_loss = train_loss / len(train_loader)\n",
        "        avg_train_accuracy = train_accuracy / len(train_loader)\n",
        "\n",
        "        print(f\"Training loss: {avg_train_loss:.4f}\")\n",
        "        print(f\"Training accuracy: {avg_train_accuracy:.4f}\")\n",
        "\n",
        "        # Validation\n",
        "        model.eval()\n",
        "        val_loss = 0\n",
        "        val_accuracy = 0\n",
        "\n",
        "        with torch.no_grad():\n",
        "            for batch in tqdm(val_loader, desc=\"Validation\"):\n",
        "                input_ids, attention_mask, labels = batch\n",
        "\n",
        "                input_ids = input_ids.to(device)\n",
        "                attention_mask = attention_mask.to(device)\n",
        "                labels = labels.to(device)\n",
        "\n",
        "                output = model(input_ids=input_ids, attention_mask=attention_mask, labels=labels)\n",
        "\n",
        "                val_loss += output.loss.item()\n",
        "                preds = torch.argmax(output.logits, dim=1)\n",
        "                val_accuracy += accuracy_score(labels.cpu().numpy(), preds.cpu().numpy())\n",
        "\n",
        "        avg_val_loss = val_loss / len(val_loader)\n",
        "        avg_val_accuracy = val_accuracy / len(val_loader)\n",
        "\n",
        "        print(f\"Validation loss: {avg_val_loss:.4f}\")\n",
        "        print(f\"Validation accuracy: {avg_val_accuracy:.4f}\")\n",
        "\n",
        "        # Check for improvement\n",
        "        if avg_val_accuracy > best_accuracy:\n",
        "            best_accuracy = avg_val_accuracy\n",
        "            no_improve = 0\n",
        "            torch.save(model.state_dict(), 'best_model.pth')\n",
        "            print(\"Saved the best model.\")\n",
        "        else:\n",
        "            no_improve += 1\n",
        "            print(f\"No improvement for {no_improve} epoch(s).\")\n",
        "\n",
        "        # Early stopping\n",
        "        if no_improve >= patience:\n",
        "            print(f\"Early stopping triggered at epoch {epoch + 1}.\")\n",
        "            break\n",
        "\n",
        "    print(\"Training complete.\")\n",
        "\n",
        "\n",
        "\n",
        "\n",
        "\n",
        "\n",
        "\n",
        "\n",
        "\n",
        "\n",
        "\n"
      ],
      "metadata": {
        "id": "sCwDWxKAKXsA"
      },
      "execution_count": null,
      "outputs": []
    },
    {
      "cell_type": "code",
      "source": [
        "from sklearn.metrics import accuracy_score, classification_report\n",
        "\n",
        "def evaluate_model_on_test(model, test_loader, device):\n",
        "    model.eval()\n",
        "    all_labels = []\n",
        "    all_preds = []\n",
        "\n",
        "    with torch.no_grad():\n",
        "        for batch in test_loader:\n",
        "\n",
        "            input_ids, attention_mask, labels = batch\n",
        "            input_ids = input_ids.to(device)\n",
        "            attention_mask = attention_mask.to(device)\n",
        "            labels = labels.to(device)\n",
        "\n",
        "            # Prediction\n",
        "            outputs = model(input_ids=input_ids, attention_mask=attention_mask)\n",
        "            preds = torch.argmax(outputs.logits, dim=1)\n",
        "\n",
        "\n",
        "            all_labels.extend(labels.cpu().numpy())\n",
        "            all_preds.extend(preds.cpu().numpy())\n",
        "\n",
        "    #  accuracy\n",
        "    accuracy = accuracy_score(all_labels, all_preds)\n",
        "    print(f\"Test Accuracy: {accuracy:.4f}\")\n",
        "\n",
        "    # Classfication Report\n",
        "    print(\"\\nClassification Report:\")\n",
        "    print(classification_report(all_labels, all_preds))\n",
        "\n",
        "\n"
      ],
      "metadata": {
        "id": "SDlSGAybIoTm"
      },
      "execution_count": null,
      "outputs": []
    },
    {
      "cell_type": "code",
      "source": [
        "def inference(model,tokenizer,text):\n",
        "  classes={0: \"Tiêu cực \", 1: \"Bình Thường\",2: \"Tích Cực\"}\n",
        "  model.eval()\n",
        "  text=preprocessor.processing(text)\n",
        "  encoding=tokenizer.encode_plus(\n",
        "      text,\n",
        "      add_special_tokens=True,\n",
        "      max_length=128,\n",
        "      padding='max_length',\n",
        "      truncation=True,\n",
        "      return_attention_mask=True,\n",
        "      return_tensors='pt'\n",
        "  )\n",
        "  output=model(input_ids=encoding['input_ids'].to(device),attention_mask=encoding['attention_mask'].to(device))\n",
        "\n",
        "  pre=torch.argmax(output.logits,dim=1)\n",
        "  return classes[pre.item()]\n",
        "\n"
      ],
      "metadata": {
        "id": "hnxQyXjbK2yq"
      },
      "execution_count": null,
      "outputs": []
    },
    {
      "cell_type": "markdown",
      "source": [
        "#Train"
      ],
      "metadata": {
        "id": "r7pQWlFuMn47"
      }
    },
    {
      "cell_type": "code",
      "source": [
        "train(phobert_model, train_loader, val_loader, optimizer, device, num_epochs)\n"
      ],
      "metadata": {
        "colab": {
          "base_uri": "https://localhost:8080/"
        },
        "id": "CkB0ne8FJB4b",
        "outputId": "9b6009a3-ae16-4cfb-8818-e1230cca825f"
      },
      "execution_count": null,
      "outputs": [
        {
          "output_type": "stream",
          "name": "stdout",
          "text": [
            "\n",
            "Epoch 1/10\n"
          ]
        },
        {
          "output_type": "stream",
          "name": "stderr",
          "text": [
            "Training: 100%|██████████| 15/15 [00:34<00:00,  2.29s/it]\n"
          ]
        },
        {
          "output_type": "stream",
          "name": "stdout",
          "text": [
            "Training loss: 1.0380\n",
            "Training accuracy: 0.5086\n"
          ]
        },
        {
          "output_type": "stream",
          "name": "stderr",
          "text": [
            "Validation: 100%|██████████| 5/5 [00:05<00:00,  1.01s/it]\n"
          ]
        },
        {
          "output_type": "stream",
          "name": "stdout",
          "text": [
            "Validation loss: 0.9068\n",
            "Validation accuracy: 0.6685\n",
            "Saved the best model.\n",
            "\n",
            "Epoch 2/10\n"
          ]
        },
        {
          "output_type": "stream",
          "name": "stderr",
          "text": [
            "Training: 100%|██████████| 15/15 [00:34<00:00,  2.32s/it]\n"
          ]
        },
        {
          "output_type": "stream",
          "name": "stdout",
          "text": [
            "Training loss: 0.8155\n",
            "Training accuracy: 0.6957\n"
          ]
        },
        {
          "output_type": "stream",
          "name": "stderr",
          "text": [
            "Validation: 100%|██████████| 5/5 [00:04<00:00,  1.04it/s]\n"
          ]
        },
        {
          "output_type": "stream",
          "name": "stdout",
          "text": [
            "Validation loss: 0.6386\n",
            "Validation accuracy: 0.7752\n",
            "Saved the best model.\n",
            "\n",
            "Epoch 3/10\n"
          ]
        },
        {
          "output_type": "stream",
          "name": "stderr",
          "text": [
            "Training: 100%|██████████| 15/15 [00:34<00:00,  2.30s/it]\n"
          ]
        },
        {
          "output_type": "stream",
          "name": "stdout",
          "text": [
            "Training loss: 0.6119\n",
            "Training accuracy: 0.7468\n"
          ]
        },
        {
          "output_type": "stream",
          "name": "stderr",
          "text": [
            "Validation: 100%|██████████| 5/5 [00:04<00:00,  1.03it/s]\n"
          ]
        },
        {
          "output_type": "stream",
          "name": "stdout",
          "text": [
            "Validation loss: 0.5549\n",
            "Validation accuracy: 0.7687\n",
            "No improvement for 1 epoch(s).\n",
            "\n",
            "Epoch 4/10\n"
          ]
        },
        {
          "output_type": "stream",
          "name": "stderr",
          "text": [
            "Training: 100%|██████████| 15/15 [00:34<00:00,  2.31s/it]\n"
          ]
        },
        {
          "output_type": "stream",
          "name": "stdout",
          "text": [
            "Training loss: 0.5049\n",
            "Training accuracy: 0.7914\n"
          ]
        },
        {
          "output_type": "stream",
          "name": "stderr",
          "text": [
            "Validation: 100%|██████████| 5/5 [00:04<00:00,  1.03it/s]\n"
          ]
        },
        {
          "output_type": "stream",
          "name": "stdout",
          "text": [
            "Validation loss: 0.4857\n",
            "Validation accuracy: 0.8158\n",
            "Saved the best model.\n",
            "\n",
            "Epoch 5/10\n"
          ]
        },
        {
          "output_type": "stream",
          "name": "stderr",
          "text": [
            "Training: 100%|██████████| 15/15 [00:34<00:00,  2.30s/it]\n"
          ]
        },
        {
          "output_type": "stream",
          "name": "stdout",
          "text": [
            "Training loss: 0.4315\n",
            "Training accuracy: 0.8296\n"
          ]
        },
        {
          "output_type": "stream",
          "name": "stderr",
          "text": [
            "Validation: 100%|██████████| 5/5 [00:04<00:00,  1.03it/s]\n"
          ]
        },
        {
          "output_type": "stream",
          "name": "stdout",
          "text": [
            "Validation loss: 0.4979\n",
            "Validation accuracy: 0.7990\n",
            "No improvement for 1 epoch(s).\n",
            "\n",
            "Epoch 6/10\n"
          ]
        },
        {
          "output_type": "stream",
          "name": "stderr",
          "text": [
            "Training: 100%|██████████| 15/15 [00:34<00:00,  2.30s/it]\n"
          ]
        },
        {
          "output_type": "stream",
          "name": "stdout",
          "text": [
            "Training loss: 0.3940\n",
            "Training accuracy: 0.8559\n"
          ]
        },
        {
          "output_type": "stream",
          "name": "stderr",
          "text": [
            "Validation: 100%|██████████| 5/5 [00:04<00:00,  1.03it/s]\n"
          ]
        },
        {
          "output_type": "stream",
          "name": "stdout",
          "text": [
            "Validation loss: 0.4566\n",
            "Validation accuracy: 0.8277\n",
            "Saved the best model.\n",
            "\n",
            "Epoch 7/10\n"
          ]
        },
        {
          "output_type": "stream",
          "name": "stderr",
          "text": [
            "Training: 100%|██████████| 15/15 [00:34<00:00,  2.31s/it]\n"
          ]
        },
        {
          "output_type": "stream",
          "name": "stdout",
          "text": [
            "Training loss: 0.3179\n",
            "Training accuracy: 0.8909\n"
          ]
        },
        {
          "output_type": "stream",
          "name": "stderr",
          "text": [
            "Validation: 100%|██████████| 5/5 [00:04<00:00,  1.03it/s]\n"
          ]
        },
        {
          "output_type": "stream",
          "name": "stdout",
          "text": [
            "Validation loss: 0.4567\n",
            "Validation accuracy: 0.8434\n",
            "Saved the best model.\n",
            "\n",
            "Epoch 8/10\n"
          ]
        },
        {
          "output_type": "stream",
          "name": "stderr",
          "text": [
            "Training: 100%|██████████| 15/15 [00:34<00:00,  2.31s/it]\n"
          ]
        },
        {
          "output_type": "stream",
          "name": "stdout",
          "text": [
            "Training loss: 0.2758\n",
            "Training accuracy: 0.9059\n"
          ]
        },
        {
          "output_type": "stream",
          "name": "stderr",
          "text": [
            "Validation: 100%|██████████| 5/5 [00:04<00:00,  1.03it/s]\n"
          ]
        },
        {
          "output_type": "stream",
          "name": "stdout",
          "text": [
            "Validation loss: 0.4709\n",
            "Validation accuracy: 0.8405\n",
            "No improvement for 1 epoch(s).\n",
            "\n",
            "Epoch 9/10\n"
          ]
        },
        {
          "output_type": "stream",
          "name": "stderr",
          "text": [
            "Training: 100%|██████████| 15/15 [00:34<00:00,  2.30s/it]\n"
          ]
        },
        {
          "output_type": "stream",
          "name": "stdout",
          "text": [
            "Training loss: 0.2268\n",
            "Training accuracy: 0.9306\n"
          ]
        },
        {
          "output_type": "stream",
          "name": "stderr",
          "text": [
            "Validation: 100%|██████████| 5/5 [00:04<00:00,  1.03it/s]\n"
          ]
        },
        {
          "output_type": "stream",
          "name": "stdout",
          "text": [
            "Validation loss: 0.4756\n",
            "Validation accuracy: 0.8302\n",
            "No improvement for 2 epoch(s).\n",
            "\n",
            "Epoch 10/10\n"
          ]
        },
        {
          "output_type": "stream",
          "name": "stderr",
          "text": [
            "Training: 100%|██████████| 15/15 [00:34<00:00,  2.30s/it]\n"
          ]
        },
        {
          "output_type": "stream",
          "name": "stdout",
          "text": [
            "Training loss: 0.1742\n",
            "Training accuracy: 0.9473\n"
          ]
        },
        {
          "output_type": "stream",
          "name": "stderr",
          "text": [
            "Validation: 100%|██████████| 5/5 [00:04<00:00,  1.03it/s]"
          ]
        },
        {
          "output_type": "stream",
          "name": "stdout",
          "text": [
            "Validation loss: 0.5124\n",
            "Validation accuracy: 0.8399\n",
            "No improvement for 3 epoch(s).\n",
            "Training complete.\n"
          ]
        },
        {
          "output_type": "stream",
          "name": "stderr",
          "text": [
            "\n"
          ]
        }
      ]
    },
    {
      "cell_type": "markdown",
      "source": [
        "#Test"
      ],
      "metadata": {
        "id": "16mcPSKKKApk"
      }
    },
    {
      "cell_type": "code",
      "source": [
        "ls"
      ],
      "metadata": {
        "colab": {
          "base_uri": "https://localhost:8080/"
        },
        "id": "efj8mBelKnnj",
        "outputId": "baf6e219-1689-4a99-f866-63b7f6b6c3b3"
      },
      "execution_count": null,
      "outputs": [
        {
          "output_type": "stream",
          "name": "stdout",
          "text": [
            "best_model.pth  \u001b[0m\u001b[01;34mmodels\u001b[0m/  VnCoreNLP-1.2.jar\n"
          ]
        }
      ]
    },
    {
      "cell_type": "code",
      "source": [
        "best_model_path = 'best_model.pth'\n",
        "\n",
        "# Load model\n",
        "state_dict = torch.load(best_model_path)\n",
        "phobert_model.load_state_dict(state_dict)\n",
        "\n",
        "# Eval model\n",
        "evaluate_model_on_test(phobert_model, test_loader, device)\n"
      ],
      "metadata": {
        "colab": {
          "base_uri": "https://localhost:8080/"
        },
        "id": "qj2MR9pjJ_py",
        "outputId": "9cca32d6-8d2d-43fc-c319-f296b6fbf72c"
      },
      "execution_count": null,
      "outputs": [
        {
          "output_type": "stream",
          "name": "stderr",
          "text": [
            "<ipython-input-55-33f47c6a377a>:4: FutureWarning: You are using `torch.load` with `weights_only=False` (the current default value), which uses the default pickle module implicitly. It is possible to construct malicious pickle data which will execute arbitrary code during unpickling (See https://github.com/pytorch/pytorch/blob/main/SECURITY.md#untrusted-models for more details). In a future release, the default value for `weights_only` will be flipped to `True`. This limits the functions that could be executed during unpickling. Arbitrary objects will no longer be allowed to be loaded via this mode unless they are explicitly allowlisted by the user via `torch.serialization.add_safe_globals`. We recommend you start setting `weights_only=True` for any use case where you don't have full control of the loaded file. Please open an issue on GitHub for any issues related to this experimental feature.\n",
            "  state_dict = torch.load(best_model_path)\n"
          ]
        },
        {
          "output_type": "stream",
          "name": "stdout",
          "text": [
            "Test Accuracy: 0.8233\n",
            "\n",
            "Classification Report:\n",
            "              precision    recall  f1-score   support\n",
            "\n",
            "           0       0.84      0.89      0.86       218\n",
            "           1       0.71      0.69      0.70       174\n",
            "           2       0.91      0.87      0.89       208\n",
            "\n",
            "    accuracy                           0.82       600\n",
            "   macro avg       0.82      0.82      0.82       600\n",
            "weighted avg       0.82      0.82      0.82       600\n",
            "\n"
          ]
        }
      ]
    },
    {
      "cell_type": "markdown",
      "source": [
        "#Inference"
      ],
      "metadata": {
        "id": "GXGt6mq_eaCM"
      }
    },
    {
      "cell_type": "markdown",
      "source": [
        "#Level:Easy"
      ],
      "metadata": {
        "id": "E960kFKBSVTw"
      }
    },
    {
      "cell_type": "code",
      "source": [
        "text=\"Món ăn này rất ngon, tôi thích cách trình bày của nó.\"\n",
        "inference(phobert_model,tokenizer,text)\n",
        "\n"
      ],
      "metadata": {
        "colab": {
          "base_uri": "https://localhost:8080/",
          "height": 36
        },
        "id": "JkOMT60qeeCH",
        "outputId": "cec645ed-0f9f-4d27-dedc-0e0fdabadffe"
      },
      "execution_count": null,
      "outputs": [
        {
          "output_type": "execute_result",
          "data": {
            "text/plain": [
              "'Tích Cực'"
            ],
            "application/vnd.google.colaboratory.intrinsic+json": {
              "type": "string"
            }
          },
          "metadata": {},
          "execution_count": 56
        }
      ]
    },
    {
      "cell_type": "code",
      "source": [
        "text=\"Món ăn này ổn, không có gì đặc biệt.\"\n",
        "inference(phobert_model,tokenizer,text)"
      ],
      "metadata": {
        "colab": {
          "base_uri": "https://localhost:8080/",
          "height": 36
        },
        "id": "WhiLHvxARnH6",
        "outputId": "b0387ea5-34fa-4913-99b9-41a961b85187"
      },
      "execution_count": null,
      "outputs": [
        {
          "output_type": "execute_result",
          "data": {
            "text/plain": [
              "'Bình Thường'"
            ],
            "application/vnd.google.colaboratory.intrinsic+json": {
              "type": "string"
            }
          },
          "metadata": {},
          "execution_count": 57
        }
      ]
    },
    {
      "cell_type": "code",
      "source": [
        "text=\"Món ăn này quá mặn và không hợp khẩu vị của tôi.\"\n",
        "inference(phobert_model,tokenizer,text)"
      ],
      "metadata": {
        "colab": {
          "base_uri": "https://localhost:8080/",
          "height": 36
        },
        "id": "OwFZg6LJRsdC",
        "outputId": "b61fb618-c0e9-46cb-df6d-635d811ddc3d"
      },
      "execution_count": null,
      "outputs": [
        {
          "output_type": "execute_result",
          "data": {
            "text/plain": [
              "'Tiêu cực '"
            ],
            "application/vnd.google.colaboratory.intrinsic+json": {
              "type": "string"
            }
          },
          "metadata": {},
          "execution_count": 58
        }
      ]
    },
    {
      "cell_type": "markdown",
      "source": [
        "#Level:Medium"
      ],
      "metadata": {
        "id": "JrGpU3RsSZEL"
      }
    },
    {
      "cell_type": "code",
      "source": [
        "text=\"Nhân viên rất thân thiện, dịch vụ ở đây khiến tôi cảm thấy hài lòng.\"\n",
        "inference(phobert_model,tokenizer,text)"
      ],
      "metadata": {
        "colab": {
          "base_uri": "https://localhost:8080/",
          "height": 36
        },
        "id": "B-ce2KM3MrEF",
        "outputId": "b6d864a9-3d6c-4c68-bc76-29a5f34fd873"
      },
      "execution_count": null,
      "outputs": [
        {
          "output_type": "execute_result",
          "data": {
            "text/plain": [
              "'Tích Cực'"
            ],
            "application/vnd.google.colaboratory.intrinsic+json": {
              "type": "string"
            }
          },
          "metadata": {},
          "execution_count": 59
        }
      ]
    },
    {
      "cell_type": "code",
      "source": [
        "text=\"Nhân viên rất thân thiện, dịch vụ ở đây khiến tôi cảm thấy hài lòng.\"\n",
        "inference(phobert_model,tokenizer,text)"
      ],
      "metadata": {
        "colab": {
          "base_uri": "https://localhost:8080/",
          "height": 36
        },
        "id": "ZatQzGwKR2u3",
        "outputId": "cbc04e22-b798-4ea6-8934-74b77816e144"
      },
      "execution_count": null,
      "outputs": [
        {
          "output_type": "execute_result",
          "data": {
            "text/plain": [
              "'Tích Cực'"
            ],
            "application/vnd.google.colaboratory.intrinsic+json": {
              "type": "string"
            }
          },
          "metadata": {},
          "execution_count": 60
        }
      ]
    },
    {
      "cell_type": "code",
      "source": [
        "text=\"Nhân viên phục vụ quá chậm, tôi phải đợi rất lâu.\"\n",
        "inference(phobert_model,tokenizer,text)"
      ],
      "metadata": {
        "colab": {
          "base_uri": "https://localhost:8080/",
          "height": 36
        },
        "id": "t-ZsleokR-EW",
        "outputId": "481b1b8d-dea8-49f9-a5e1-7fdd4b56e924"
      },
      "execution_count": null,
      "outputs": [
        {
          "output_type": "execute_result",
          "data": {
            "text/plain": [
              "'Tiêu cực '"
            ],
            "application/vnd.google.colaboratory.intrinsic+json": {
              "type": "string"
            }
          },
          "metadata": {},
          "execution_count": 61
        }
      ]
    },
    {
      "cell_type": "markdown",
      "source": [
        "#Level:Hard"
      ],
      "metadata": {
        "id": "MXxciYtfSdrq"
      }
    },
    {
      "cell_type": "code",
      "source": [
        "text=\"Ứng dụng này rất dễ sử dụng, các tính năng được thiết kế trực quan và thực sự giúp tôi tiết kiệm thời gian.\"\n",
        "\n",
        "inference(phobert_model,tokenizer,text)"
      ],
      "metadata": {
        "colab": {
          "base_uri": "https://localhost:8080/",
          "height": 36
        },
        "id": "XXPRTJJLSEGy",
        "outputId": "a07788a5-179d-41bd-b822-d6f7e079391f"
      },
      "execution_count": null,
      "outputs": [
        {
          "output_type": "execute_result",
          "data": {
            "text/plain": [
              "'Tích Cực'"
            ],
            "application/vnd.google.colaboratory.intrinsic+json": {
              "type": "string"
            }
          },
          "metadata": {},
          "execution_count": 62
        }
      ]
    },
    {
      "cell_type": "code",
      "source": [
        "text=\"Ứng dụng này có đầy đủ chức năng cơ bản, nhưng không có gì nổi bật so với các ứng dụng khác.\"\n",
        "inference(phobert_model,tokenizer,text)"
      ],
      "metadata": {
        "colab": {
          "base_uri": "https://localhost:8080/",
          "height": 36
        },
        "id": "u2K7HQfZSKNe",
        "outputId": "36dfe648-03c2-462f-d161-3cd322361bfc"
      },
      "execution_count": null,
      "outputs": [
        {
          "output_type": "execute_result",
          "data": {
            "text/plain": [
              "'Bình Thường'"
            ],
            "application/vnd.google.colaboratory.intrinsic+json": {
              "type": "string"
            }
          },
          "metadata": {},
          "execution_count": 63
        }
      ]
    },
    {
      "cell_type": "code",
      "source": [
        "text=\"Ứng dụng này liên tục bị lỗi, giao diện khó hiểu, và không thực sự hữu ích.\"\n",
        "inference(phobert_model,tokenizer,text)"
      ],
      "metadata": {
        "colab": {
          "base_uri": "https://localhost:8080/",
          "height": 36
        },
        "id": "zLLYLE1QSOrk",
        "outputId": "ed0fcc9c-f01c-4764-c8c6-ab105d19390b"
      },
      "execution_count": null,
      "outputs": [
        {
          "output_type": "execute_result",
          "data": {
            "text/plain": [
              "'Tiêu cực '"
            ],
            "application/vnd.google.colaboratory.intrinsic+json": {
              "type": "string"
            }
          },
          "metadata": {},
          "execution_count": 64
        }
      ]
    }
  ]
}