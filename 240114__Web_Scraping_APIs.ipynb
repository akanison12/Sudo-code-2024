{
  "nbformat": 4,
  "nbformat_minor": 0,
  "metadata": {
    "colab": {
      "provenance": [],
      "include_colab_link": true
    },
    "kernelspec": {
      "name": "python3",
      "display_name": "Python 3"
    },
    "language_info": {
      "name": "python"
    }
  },
  "cells": [
    {
      "cell_type": "markdown",
      "metadata": {
        "id": "view-in-github",
        "colab_type": "text"
      },
      "source": [
        "<a href=\"https://colab.research.google.com/github/akanison12/Sudo-code-2024/blob/main/240114__Web_Scraping_APIs.ipynb\" target=\"_parent\"><img src=\"https://colab.research.google.com/assets/colab-badge.svg\" alt=\"Open In Colab\"/></a>"
      ]
    },
    {
      "cell_type": "code",
      "execution_count": null,
      "metadata": {
        "id": "SIlbV8hbAXqq"
      },
      "outputs": [],
      "source": [
        "from bs4 import BeautifulSoup\n",
        "import requests"
      ]
    },
    {
      "cell_type": "code",
      "source": [
        "url='https://arxiv.org/list/cs.AI/recent'"
      ],
      "metadata": {
        "id": "TrB6qH2BBCEu"
      },
      "execution_count": null,
      "outputs": []
    },
    {
      "cell_type": "markdown",
      "source": [
        "#Gửi request đến servers"
      ],
      "metadata": {
        "id": "UY9XVZ5cY84j"
      }
    },
    {
      "cell_type": "code",
      "source": [
        "page=requests.get(url)\n",
        "page"
      ],
      "metadata": {
        "colab": {
          "base_uri": "https://localhost:8080/"
        },
        "id": "ppLqD5wiBH9K",
        "outputId": "45180696-14e3-4819-cfda-78eac09d7cac"
      },
      "execution_count": null,
      "outputs": [
        {
          "output_type": "execute_result",
          "data": {
            "text/plain": [
              "<Response [200]>"
            ]
          },
          "metadata": {},
          "execution_count": 3
        }
      ]
    },
    {
      "cell_type": "markdown",
      "source": [
        "#Dùng BeautifulSoup để phân tích html"
      ],
      "metadata": {
        "id": "LzegQHwfZB6t"
      }
    },
    {
      "cell_type": "code",
      "source": [
        "soup=BeautifulSoup(page.content,'html.parser')"
      ],
      "metadata": {
        "id": "cH-58HyxFtpU"
      },
      "execution_count": null,
      "outputs": []
    },
    {
      "cell_type": "markdown",
      "source": [
        "#Lấy cái đường links đến cái bài báo"
      ],
      "metadata": {
        "id": "DxJdICp4Yxv6"
      }
    },
    {
      "cell_type": "code",
      "source": [
        "urls = []\n",
        "links = soup.find_all('a', title=\"Abstract\")\n",
        "for link in links:\n",
        "    url = \"https://arxiv.org\" + link['href']\n",
        "    urls.append(url)\n",
        "urls\n",
        "\n"
      ],
      "metadata": {
        "id": "HZ4z4G6AFvFt",
        "colab": {
          "base_uri": "https://localhost:8080/"
        },
        "outputId": "d31eb6ef-5dda-479f-81ee-577dbcbadb07"
      },
      "execution_count": null,
      "outputs": [
        {
          "output_type": "execute_result",
          "data": {
            "text/plain": [
              "['https://arxiv.org/abs/2411.14404',\n",
              " 'https://arxiv.org/abs/2411.14368',\n",
              " 'https://arxiv.org/abs/2411.14214',\n",
              " 'https://arxiv.org/abs/2411.14033',\n",
              " 'https://arxiv.org/abs/2411.14012',\n",
              " 'https://arxiv.org/abs/2411.13932',\n",
              " 'https://arxiv.org/abs/2411.13867',\n",
              " 'https://arxiv.org/abs/2411.13749',\n",
              " 'https://arxiv.org/abs/2411.13653',\n",
              " 'https://arxiv.org/abs/2411.13566',\n",
              " 'https://arxiv.org/abs/2411.13560',\n",
              " 'https://arxiv.org/abs/2411.14429',\n",
              " 'https://arxiv.org/abs/2411.14425',\n",
              " 'https://arxiv.org/abs/2411.14403',\n",
              " 'https://arxiv.org/abs/2411.14374',\n",
              " 'https://arxiv.org/abs/2411.14371',\n",
              " 'https://arxiv.org/abs/2411.14367',\n",
              " 'https://arxiv.org/abs/2411.14354',\n",
              " 'https://arxiv.org/abs/2411.14343',\n",
              " 'https://arxiv.org/abs/2411.14303',\n",
              " 'https://arxiv.org/abs/2411.14277',\n",
              " 'https://arxiv.org/abs/2411.14263',\n",
              " 'https://arxiv.org/abs/2411.14258',\n",
              " 'https://arxiv.org/abs/2411.14257',\n",
              " 'https://arxiv.org/abs/2411.14254',\n",
              " 'https://arxiv.org/abs/2411.14252',\n",
              " 'https://arxiv.org/abs/2411.14251',\n",
              " 'https://arxiv.org/abs/2411.14243',\n",
              " 'https://arxiv.org/abs/2411.14219',\n",
              " 'https://arxiv.org/abs/2411.14215',\n",
              " 'https://arxiv.org/abs/2411.14207',\n",
              " 'https://arxiv.org/abs/2411.14205',\n",
              " 'https://arxiv.org/abs/2411.14199',\n",
              " 'https://arxiv.org/abs/2411.14193',\n",
              " 'https://arxiv.org/abs/2411.14164',\n",
              " 'https://arxiv.org/abs/2411.14157',\n",
              " 'https://arxiv.org/abs/2411.14141',\n",
              " 'https://arxiv.org/abs/2411.14133',\n",
              " 'https://arxiv.org/abs/2411.14117',\n",
              " 'https://arxiv.org/abs/2411.14092',\n",
              " 'https://arxiv.org/abs/2411.14064',\n",
              " 'https://arxiv.org/abs/2411.14062',\n",
              " 'https://arxiv.org/abs/2411.14054',\n",
              " 'https://arxiv.org/abs/2411.14042',\n",
              " 'https://arxiv.org/abs/2411.14039',\n",
              " 'https://arxiv.org/abs/2411.14034',\n",
              " 'https://arxiv.org/abs/2411.13997',\n",
              " 'https://arxiv.org/abs/2411.13982',\n",
              " 'https://arxiv.org/abs/2411.13981',\n",
              " 'https://arxiv.org/abs/2411.13979']"
            ]
          },
          "metadata": {},
          "execution_count": 5
        }
      ]
    },
    {
      "cell_type": "markdown",
      "source": [
        "#Đi đến đường dẫn mỗi bài báo, trích xuất các thông tin như: tên bài báo, tên tác giả, abstract của bài báo, subjects, đường dẫn download bài báo."
      ],
      "metadata": {
        "id": "2JpVb4VlZIW5"
      }
    },
    {
      "cell_type": "code",
      "source": [
        "from urllib.parse import urljoin\n",
        "\n",
        "papers = []\n",
        "\n",
        "\n",
        "for url in urls:\n",
        "\n",
        "    response = requests.get(url)\n",
        "    html = response.text\n",
        "\n",
        "\n",
        "    soup = BeautifulSoup(html, 'html.parser')\n",
        "\n",
        "\n",
        "    title = soup.find('h1', class_='title mathjax').text.strip().replace('Title:', '')\n",
        "    authors = soup.find('div', class_='authors').text.strip().replace('Authors:', '')\n",
        "    abstract = soup.find('blockquote', class_='abstract mathjax').text.strip().replace('Abstract:', '')\n",
        "\n",
        "    subjects = soup.find('td', class_='tablecell subjects').text.strip()\n",
        "\n",
        "    download_url = soup.find('a', class_='abs-button download-pdf')['href']\n",
        "    download_url = urljoin('https://arxiv.org/', download_url)\n",
        "\n",
        "    papers.append([title, authors, abstract, subjects, download_url])\n",
        "\n",
        "\n"
      ],
      "metadata": {
        "id": "arVTAe0nHs_8"
      },
      "execution_count": null,
      "outputs": []
    },
    {
      "cell_type": "code",
      "source": [
        "from urllib.parse import urljoin\n",
        "\n",
        "papers = []\n",
        "\n",
        "\n",
        "for url in urls:\n",
        "\n",
        "    response = requests.get(url)\n",
        "    html = response.text\n",
        "\n",
        "\n",
        "    soup = BeautifulSoup(html, 'html.parser')\n",
        "\n",
        "\n",
        "    title = soup.find('h1', class_='title mathjax').text.strip().replace('Title:', '')\n",
        "    authors = soup.find('div', class_='authors').text.strip().replace('Authors:', '')\n",
        "    abstract = soup.find('blockquote', class_='abstract mathjax').text.strip().replace('Abstract:', '')\n",
        "\n",
        "    subjects = soup.find('td', class_='tablecell subjects').text.strip()\n",
        "\n",
        "    download_url = soup.find('a', class_='abs-button download-pdf')['href']\n",
        "    download_url = urljoin('https://arxiv.org/', download_url)\n",
        "\n",
        "    papers.append([title, authors, abstract, subjects, download_url])\n",
        "\n",
        "\n"
      ],
      "metadata": {
        "id": "BpqeTnXFzX3g"
      },
      "execution_count": null,
      "outputs": []
    },
    {
      "cell_type": "markdown",
      "source": [
        "#Lưu tất cả các thông tin trên của tất cả bài báo thành định dạng file .csv, vơi các column là: Title, Authors, Abstract, Subjects, DownloadUrl"
      ],
      "metadata": {
        "id": "K-4qNHA5ZNf5"
      }
    },
    {
      "cell_type": "code",
      "source": [
        "import pandas as pd\n",
        "\n",
        "# Tạo DataFrame từ danh sách papers\n",
        "df = pd.DataFrame(papers, columns=['Title', 'Authors', 'Abstract', 'Subjects', 'Download URL'])\n",
        "\n",
        "# Lưu DataFrame vào file CSV\n",
        "\n",
        "df.to_csv('papers.csv')"
      ],
      "metadata": {
        "id": "Vd8KJignNTM6"
      },
      "execution_count": null,
      "outputs": []
    }
  ]
}